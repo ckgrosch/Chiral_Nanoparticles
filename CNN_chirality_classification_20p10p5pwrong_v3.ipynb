{
 "cells": [
  {
   "cell_type": "code",
   "execution_count": 1,
   "metadata": {},
   "outputs": [
    {
     "name": "stderr",
     "output_type": "stream",
     "text": [
      "Using TensorFlow backend.\n"
     ]
    }
   ],
   "source": [
    "import tensorflow as tf\n",
    "from tensorflow import keras\n",
    "from tensorflow.keras.layers import Conv2D, MaxPooling2D, Activation, Dropout, Flatten, Dense\n",
    "from tensorflow.keras.models import Sequential, load_model\n",
    "import numpy as np\n",
    "import matplotlib.pyplot as plt\n",
    "from keras.preprocessing.image import ImageDataGenerator\n",
    "# from keras.utils import to_categorical\n",
    "from sklearn import metrics\n",
    "import h5py\n",
    "from sklearn import utils\n",
    "from tensorflow.keras.backend import clear_session\n",
    "from tensorflow.keras.callbacks import EarlyStopping, ModelCheckpoint"
   ]
  },
  {
   "cell_type": "code",
   "execution_count": 2,
   "metadata": {},
   "outputs": [],
   "source": [
    "right_images = np.load('20200514_right__Chiral_D_Large_TIFF_Cropped_four_rows_sel_NPs_rotated.npy')\n",
    "right_labels = [[1,0] for i in np.arange(0,len(right_images))]"
   ]
  },
  {
   "cell_type": "code",
   "execution_count": 6,
   "metadata": {},
   "outputs": [],
   "source": [
    "\n",
    "\n",
    "new_left_images = []\n",
    "new_left_labels = []\n",
    "new_right_images = []\n",
    "new_right_labels = []\n",
    "\n",
    "\n",
    "for img in right_images:\n",
    "    new_left_images.append(np.fliplr(img))\n",
    "    new_left_labels.append([0,1])\n",
    "    new_right_images.append(img)\n",
    "    new_right_labels.append([1,0])\n",
    "new_left_images = np.array(new_left_images)\n",
    "new_right_images = np.array(new_right_images)\n",
    "\n",
    "split = int(191*0.2)\n",
    "\n",
    "flipped_right_indices = np.random.choice(np.arange(0,191),split,replace=False)\n",
    "flipped_left_indices = np.random.choice(np.arange(0,191),split,replace=False)\n",
    "\n",
    "for idx in flipped_right_indices:\n",
    "    new_right_images[idx] = np.fliplr(new_right_images[idx])\n",
    "\n",
    "for idx in flipped_left_indices:\n",
    "    new_left_images[idx] = np.fliplr(new_left_images[idx])\n",
    "\n",
    "right_img_shuff, right_label_shuff = utils.shuffle(new_right_images[:191], new_right_labels[:191],random_state=0)\n",
    "left_img_shuff, left_label_shuff = utils.shuffle(new_left_images[:191], new_left_labels[:191],random_state=0)\n",
    "\n",
    "X_train = np.concatenate((right_img_shuff[:191],left_img_shuff[:191]),axis =0)\n",
    "Y_train = np.concatenate((right_label_shuff[:191],left_label_shuff[:191]),axis = 0)\n",
    "\n",
    "split = int(95*0.2)\n",
    "\n",
    "flipped_right_indices = np.random.choice(np.arange(191,286),split,replace=False)\n",
    "flipped_left_indices = np.random.choice(np.arange(191,286),split,replace=False)\n",
    "\n",
    "for idx in flipped_right_indices:\n",
    "    new_right_images[idx] = np.fliplr(new_right_images[idx])\n",
    "\n",
    "for idx in flipped_left_indices:\n",
    "    new_left_images[idx] = np.fliplr(new_left_images[idx])\n",
    "\n",
    "right_img_shuff, right_label_shuff = utils.shuffle(new_right_images[191:286], new_right_labels[191:286],random_state=0)\n",
    "left_img_shuff, left_label_shuff = utils.shuffle(new_left_images[191:286], new_left_labels[191:286],random_state=0)\n",
    "\n",
    "\n",
    "X_test = np.concatenate((right_img_shuff,left_img_shuff),axis = 0)\n",
    "Y_test = np.concatenate((right_label_shuff,left_label_shuff),axis = 0)\n",
    "\n",
    "X_train_norm = X_train/X_train.max()\n",
    "X_test_norm = X_test/X_test.max()\n",
    "X_train_norm = np.expand_dims(X_train_norm,axis=3)\n",
    "X_test_norm = np.expand_dims(X_test_norm,axis=3)\n",
    "\n",
    "X_train_shuff, Y_train_shuff = utils.shuffle(X_train_norm, Y_train,random_state=0)\n",
    "X_test_shuff, Y_test_shuff = utils.shuffle(X_test_norm, Y_test,random_state=0)\n",
    "\n",
    "batch_size = 25\n",
    "seed = 42\n",
    "train_datagen = ImageDataGenerator(\n",
    "        rotation_range = 10,\n",
    "        shear_range=0.2,\n",
    "        zoom_range=0.3,\n",
    "        horizontal_flip=False,\n",
    "        vertical_flip = False)\n",
    "\n",
    "test_datagen = ImageDataGenerator(rescale=1.)\n",
    "\n",
    "train_generator = train_datagen.flow(X_train_shuff, y=Y_train_shuff, batch_size=batch_size,seed=seed)\n",
    "val_generator = test_datagen.flow(X_test_shuff,y=Y_test_shuff,batch_size=batch_size,seed=seed)"
   ]
  },
  {
   "cell_type": "code",
   "execution_count": 7,
   "metadata": {},
   "outputs": [],
   "source": [
    "modelE = keras.models.Sequential()\n",
    "modelE.add(Conv2D(32, (3, 3), input_shape=(128, 128,1)))\n",
    "modelE.add(Activation('relu'))\n",
    "modelE.add(MaxPooling2D(pool_size=(2, 2)))\n",
    "\n",
    "modelE.add(Conv2D(32, (3, 3)))\n",
    "modelE.add(Activation('relu'))\n",
    "modelE.add(MaxPooling2D(pool_size=(2, 2)))\n",
    "\n",
    "modelE.add(Conv2D(64, (3, 3)))\n",
    "modelE.add(Activation('relu'))\n",
    "modelE.add(MaxPooling2D(pool_size=(2, 2)))\n",
    "\n",
    "modelE.add(Conv2D(64, (3, 3)))\n",
    "modelE.add(Activation('relu'))\n",
    "modelE.add(MaxPooling2D(pool_size=(2, 2)))\n",
    "\n",
    "modelE.add(Conv2D(64, (3, 3)))\n",
    "modelE.add(Activation('relu'))\n",
    "modelE.add(MaxPooling2D(pool_size=(2, 2)))\n",
    "\n",
    "modelE.add(Flatten())  # this converts our 3D feature maps to 1D feature vectors\n",
    "modelE.add(Dense(64))\n",
    "modelE.add(Activation('relu'))\n",
    "modelE.add(Dropout(0.5))\n",
    "modelE.add(Dense(2))\n",
    "modelE.add(Activation('softmax'))\n",
    "\n",
    "modelE.compile(loss='categorical_crossentropy',\n",
    "              optimizer='rmsprop',\n",
    "              metrics=['accuracy'])"
   ]
  },
  {
   "cell_type": "code",
   "execution_count": 8,
   "metadata": {},
   "outputs": [],
   "source": [
    "save_weights = 'chirality_classification_20pwrongleftrightlabels_weights_20200820.h5'"
   ]
  },
  {
   "cell_type": "code",
   "execution_count": 9,
   "metadata": {},
   "outputs": [],
   "source": [
    "clear_session()"
   ]
  },
  {
   "cell_type": "code",
   "execution_count": 10,
   "metadata": {},
   "outputs": [
    {
     "name": "stdout",
     "output_type": "stream",
     "text": [
      "Epoch 1/15\n",
      "2500/2500 [==============================] - 444s 178ms/step - loss: 0.6467 - accuracy: 0.5845 - val_loss: 0.6791 - val_accuracy: 0.6421\n",
      "Epoch 2/15\n",
      "2500/2500 [==============================] - 425s 170ms/step - loss: 0.4292 - accuracy: 0.7824 - val_loss: 0.8672 - val_accuracy: 0.6571\n",
      "Epoch 3/15\n",
      "2500/2500 [==============================] - 419s 168ms/step - loss: 0.3649 - accuracy: 0.8044 - val_loss: 1.2581 - val_accuracy: 0.6476\n",
      "Epoch 4/15\n",
      "2500/2500 [==============================] - 438s 175ms/step - loss: 0.3713 - accuracy: 0.8057 - val_loss: 1.4758 - val_accuracy: 0.6411\n",
      "Epoch 5/15\n",
      "2500/2500 [==============================] - 432s 173ms/step - loss: 0.3826 - accuracy: 0.8031 - val_loss: 1.7439 - val_accuracy: 0.6684\n",
      "Epoch 6/15\n",
      "2500/2500 [==============================] - 442s 177ms/step - loss: 0.3937 - accuracy: 0.7996 - val_loss: 0.7841 - val_accuracy: 0.6276\n",
      "Epoch 7/15\n",
      "2500/2500 [==============================] - 453s 181ms/step - loss: 0.4112 - accuracy: 0.7958 - val_loss: 1.6469 - val_accuracy: 0.6571\n",
      "Epoch 8/15\n",
      "2500/2500 [==============================] - 440s 176ms/step - loss: 0.4272 - accuracy: 0.7937 - val_loss: 1.4237 - val_accuracy: 0.6373\n",
      "Epoch 9/15\n",
      "2500/2500 [==============================] - 438s 175ms/step - loss: 0.4309 - accuracy: 0.7912 - val_loss: 2.5756 - val_accuracy: 0.6263\n",
      "Epoch 10/15\n",
      "2500/2500 [==============================] - 437s 175ms/step - loss: 0.4264 - accuracy: 0.7931 - val_loss: 1.9769 - val_accuracy: 0.6211\n",
      "Epoch 11/15\n",
      "2500/2500 [==============================] - 437s 175ms/step - loss: 0.8714 - accuracy: 0.7898 - val_loss: 2.2868 - val_accuracy: 0.6575\n",
      "Epoch 12/15\n",
      "2500/2500 [==============================] - 431s 172ms/step - loss: 0.4294 - accuracy: 0.7930 - val_loss: 3.1484 - val_accuracy: 0.6747\n",
      "Epoch 13/15\n",
      "2500/2500 [==============================] - 431s 172ms/step - loss: 0.4643 - accuracy: 0.7885 - val_loss: 2.7357 - val_accuracy: 0.6272\n",
      "Epoch 14/15\n",
      "2500/2500 [==============================] - 438s 175ms/step - loss: 0.4392 - accuracy: 0.7957 - val_loss: 3.0383 - val_accuracy: 0.6213\n",
      "Epoch 15/15\n",
      "2500/2500 [==============================] - 439s 176ms/step - loss: 0.4216 - accuracy: 0.7920 - val_loss: 2.6347 - val_accuracy: 0.6682\n"
     ]
    }
   ],
   "source": [
    "historyE = modelE.fit(\n",
    "        train_generator,\n",
    "        steps_per_epoch=2500,\n",
    "        epochs=15,\n",
    "        validation_data=val_generator,\n",
    "        validation_steps=200)"
   ]
  },
  {
   "cell_type": "code",
   "execution_count": 28,
   "metadata": {},
   "outputs": [],
   "source": [
    "modelE.save_weights(save_weights)"
   ]
  },
  {
   "cell_type": "code",
   "execution_count": 29,
   "metadata": {},
   "outputs": [],
   "source": [
    "np.save('Te_X_train_shuff_20200820.npy',X_train_shuff)\n",
    "np.save('Te_Y_train_shuff_20200820.npy',Y_train_shuff)\n",
    "np.save('Te_X_test_shuff_20200820.npy',X_test_shuff)\n",
    "np.save('Te_Y_test_shuff_20200820.npy',Y_test_shuff)"
   ]
  },
  {
   "cell_type": "code",
   "execution_count": 11,
   "metadata": {},
   "outputs": [
    {
     "data": {
      "image/png": "[encoded data removed]",
      "text/plain": [
       "<Figure size 432x288 with 1 Axes>"
      ]
     },
     "metadata": {},
     "output_type": "display_data"
    }
   ],
   "source": [
    "plt.plot(historyE.history['accuracy'])\n",
    "plt.plot(historyE.history['val_accuracy'])\n",
    "plt.title('Model accuracy')\n",
    "plt.ylabel('Accuracy')\n",
    "plt.xlabel('Epoch')\n",
    "plt.legend(['Train', 'Test'], loc='upper left')\n",
    "plt.show()"
   ]
  },
  {
   "cell_type": "code",
   "execution_count": 12,
   "metadata": {},
   "outputs": [
    {
     "data": {
      "image/png": "[encoded data removed]",
      "text/plain": [
       "<Figure size 432x288 with 1 Axes>"
      ]
     },
     "metadata": {},
     "output_type": "display_data"
    }
   ],
   "source": [
    "plt.plot(historyE.history['loss'])\n",
    "plt.plot(historyE.history['val_loss'])\n",
    "plt.title('Model Loss')\n",
    "plt.ylabel('Loss')\n",
    "plt.xlabel('Epoch')\n",
    "plt.legend(['Train', 'Test'], loc='upper left')\n",
    "plt.show()"
   ]
  },
  {
   "cell_type": "code",
   "execution_count": 13,
   "metadata": {},
   "outputs": [],
   "source": [
    "X_val = np.concatenate((new_right_images[286:],new_left_images[286:]),axis = 0)\n",
    "Y_val = np.concatenate((new_right_labels[286:],new_left_labels[286:]),axis = 0)\n",
    "X_val = X_val/X_val.max()\n",
    "X_val_norm = np.expand_dims(X_val,axis=3)\n",
    "\n",
    "X_val_shuff, Y_val_shuff = utils.shuffle(X_val_norm, Y_val,random_state=0)"
   ]
  },
  {
   "cell_type": "code",
   "execution_count": 30,
   "metadata": {},
   "outputs": [],
   "source": [
    "np.save('Te_X_val_shuff_20200820.npy',X_val_shuff)\n",
    "np.save('Te_Y_val_shuff_20200820.npy',Y_val_shuff)"
   ]
  },
  {
   "cell_type": "code",
   "execution_count": 14,
   "metadata": {},
   "outputs": [
    {
     "name": "stdout",
     "output_type": "stream",
     "text": [
      "7/7 [==============================] - 0s 38ms/step - loss: 0.4165 - accuracy: 0.8608\n"
     ]
    },
    {
     "data": {
      "text/plain": [
       "[0.4165244698524475, 0.8608247637748718]"
      ]
     },
     "execution_count": 14,
     "metadata": {},
     "output_type": "execute_result"
    }
   ],
   "source": [
    "modelE.evaluate(X_val_shuff,Y_val_shuff)"
   ]
  },
  {
   "cell_type": "code",
   "execution_count": 31,
   "metadata": {},
   "outputs": [],
   "source": [
    "pred = modelE.predict(X_val_shuff)"
   ]
  },
  {
   "cell_type": "code",
   "execution_count": null,
   "metadata": {},
   "outputs": [],
   "source": []
  },
  {
   "cell_type": "code",
   "execution_count": 16,
   "metadata": {},
   "outputs": [
    {
     "data": {
      "text/plain": [
       "array([[1.1988768e-01, 8.8011235e-01],\n",
       "       [5.8271599e-18, 1.0000000e+00],\n",
       "       [8.9266586e-01, 1.0733408e-01],\n",
       "       [4.2274448e-01, 5.7725555e-01],\n",
       "       [8.2609004e-01, 1.7390998e-01],\n",
       "       [9.9998951e-01, 1.0490433e-05],\n",
       "       [1.4770988e-01, 8.5229015e-01],\n",
       "       [5.1540095e-01, 4.8459902e-01],\n",
       "       [5.1279747e-01, 4.8720250e-01],\n",
       "       [1.0000000e+00, 1.1698843e-10]], dtype=float32)"
      ]
     },
     "execution_count": 16,
     "metadata": {},
     "output_type": "execute_result"
    }
   ],
   "source": [
    "pred"
   ]
  },
  {
   "cell_type": "code",
   "execution_count": 18,
   "metadata": {},
   "outputs": [
    {
     "data": {
      "text/plain": [
       "array([[0, 1],\n",
       "       [0, 1],\n",
       "       [1, 0],\n",
       "       [1, 0],\n",
       "       [1, 0],\n",
       "       [1, 0],\n",
       "       [1, 0],\n",
       "       [0, 1],\n",
       "       [0, 1],\n",
       "       [1, 0]])"
      ]
     },
     "execution_count": 18,
     "metadata": {},
     "output_type": "execute_result"
    }
   ],
   "source": [
    "Y_val_shuff[:10]"
   ]
  },
  {
   "cell_type": "code",
   "execution_count": 21,
   "metadata": {},
   "outputs": [
    {
     "data": {
      "text/plain": [
       "(10, 2)"
      ]
     },
     "execution_count": 21,
     "metadata": {},
     "output_type": "execute_result"
    }
   ],
   "source": [
    "pred.shape"
   ]
  },
  {
   "cell_type": "code",
   "execution_count": 27,
   "metadata": {},
   "outputs": [
    {
     "data": {
      "text/plain": [
       "<matplotlib.collections.PathCollection at 0x1a4eb52dd8>"
      ]
     },
     "execution_count": 27,
     "metadata": {},
     "output_type": "execute_result"
    },
    {
     "data": {
      "image/png": "[encoded data removed]",
      "text/plain": [
       "<Figure size 432x288 with 1 Axes>"
      ]
     },
     "metadata": {},
     "output_type": "display_data"
    }
   ],
   "source": [
    "plt.scatter(np.arange(0,10),Y_val_shuff[:10,0])\n",
    "plt.scatter(np.arange(0,10),pred[:,0])\n",
    "# plt.plot(np.arange(0,10),Y_val_shuff[:10,1],alpha=0.4)"
   ]
  },
  {
   "cell_type": "code",
   "execution_count": null,
   "metadata": {},
   "outputs": [],
   "source": []
  }
 ],
 "metadata": {
  "kernelspec": {
   "display_name": "Python (fouriernet)",
   "language": "python",
   "name": "fouriernet"
  },
  "language_info": {
   "codemirror_mode": {
    "name": "ipython",
    "version": 3
   },
   "file_extension": ".py",
   "mimetype": "text/x-python",
   "name": "python",
   "nbconvert_exporter": "python",
   "pygments_lexer": "ipython3",
   "version": "3.6.10"
  }
 },
 "nbformat": 4,
 "nbformat_minor": 2
}
