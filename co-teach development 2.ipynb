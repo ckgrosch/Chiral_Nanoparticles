{
 "cells": [
  {
   "cell_type": "code",
   "execution_count": 1,
   "metadata": {},
   "outputs": [],
   "source": [
    "import tensorflow as tf\n",
    "from tensorflow import keras\n",
    "from tensorflow.keras.layers import Conv2D, MaxPooling2D, Activation, Dropout, Flatten, Dense, Input\n",
    "from tensorflow.keras.models import Sequential, load_model,Model\n",
    "import numpy as np\n",
    "from tensorflow.keras.losses import categorical_crossentropy as cce\n",
    "from tensorflow.keras.preprocessing.image import ImageDataGenerator\n",
    "# from keras.utils import to_categorical\n",
    "\n",
    "import h5py\n",
    "from sklearn import utils\n",
    "from tensorflow.keras.backend import clear_session\n",
    "from tensorflow.keras.callbacks import EarlyStopping, ModelCheckpoint\n",
    "from matplotlib import pyplot as plt\n",
    "from sklearn import metrics\n"
   ]
  },
  {
   "cell_type": "code",
   "execution_count": 2,
   "metadata": {},
   "outputs": [],
   "source": [
    "right_images = np.load('20200514_right__Chiral_D_Large_TIFF_Cropped_four_rows_sel_NPs_rotated.npy')"
   ]
  },
  {
   "cell_type": "code",
   "execution_count": 28,
   "metadata": {},
   "outputs": [],
   "source": [
    "new_left_images = []\n",
    "new_left_labels = []\n",
    "new_right_images = []\n",
    "new_right_labels = []\n",
    "\n",
    "\n",
    "for img in right_images:\n",
    "    new_left_images.append(np.fliplr(img))\n",
    "    new_left_labels.append([0,1])\n",
    "    new_right_images.append(img)\n",
    "    new_right_labels.append([1,0])\n",
    "new_left_images = np.array(new_left_images)\n",
    "new_right_images = np.array(new_right_images)\n",
    "\n",
    "split = int(0.2*95)\n",
    "\n",
    "right_img_shuff, right_label_shuff = utils.shuffle(new_right_images[:191], new_right_labels[:191],random_state=0)\n",
    "left_img_shuff, left_label_shuff = utils.shuffle(new_left_images[:191], new_left_labels[:191],random_state=0)\n",
    "\n",
    "X_trainA = np.concatenate((right_img_shuff[:95],left_img_shuff[:95]),axis =0)\n",
    "Y_trainA = np.concatenate((left_label_shuff[:split],right_label_shuff[split:95],right_label_shuff[:split],left_label_shuff[split:95]),axis = 0)\n",
    "X_trainB = np.concatenate((right_img_shuff[95:-1],left_img_shuff[95:-1]),axis =0)\n",
    "Y_trainB = np.concatenate((left_label_shuff[:split],right_label_shuff[split:95],right_label_shuff[:split],left_label_shuff[split:95]),axis = 0)\n",
    "\n",
    "\n",
    "right_img_shuff, right_label_shuff = utils.shuffle(new_right_images[191:286], new_right_labels[191:286],random_state=0)\n",
    "left_img_shuff, left_label_shuff = utils.shuffle(new_left_images[191:286], new_left_labels[191:286],random_state=0)\n",
    "\n",
    "split = int(0.2*47)\n",
    "\n",
    "X_testA = np.concatenate((right_img_shuff[:47],left_img_shuff[:47]),axis = 0)\n",
    "Y_testA = np.concatenate((left_label_shuff[:split],right_label_shuff[split:47],right_label_shuff[:split],left_label_shuff[split:47]),axis = 0)\n",
    "correct_testA = np.concatenate((right_label_shuff[47:-1],left_label_shuff[47:-1]),axis = 0)\n",
    "X_testB = np.concatenate((right_img_shuff[47:-1],left_img_shuff[47:-1]),axis = 0)\n",
    "Y_testB = np.concatenate((left_label_shuff[:split],right_label_shuff[split:47],right_label_shuff[:split],left_label_shuff[split:47]),axis = 0)\n",
    "correct_testB = np.concatenate((right_label_shuff[47:-1],left_label_shuff[47:-1]),axis = 0)\n",
    "\n",
    "X_trainA = X_trainA/X_trainA.max()\n",
    "X_testA = X_testA/X_testA.max()\n",
    "X_trainB= X_trainB/X_trainB.max()\n",
    "X_testB = X_testB/X_testB.max()\n",
    "\n",
    "X_trainA = np.expand_dims(X_trainA,axis=3)\n",
    "X_testA = np.expand_dims(X_testA,axis=3)\n",
    "X_trainB = np.expand_dims(X_trainB,axis=3)\n",
    "X_testB = np.expand_dims(X_testB,axis=3)\n",
    "\n",
    "X_trainA, Y_trainA = utils.shuffle(X_trainA, Y_trainA,random_state=0)\n",
    "X_testA, Y_testA, correct_testA = utils.shuffle(X_testA, Y_testA, correct_testA,random_state=0)\n",
    "X_trainB,Y_trainB = utils.shuffle(X_trainB, Y_trainB,random_state=0)\n",
    "X_testB, Y_testB, correct_testB = utils.shuffle(X_testB, Y_testB, correct_testB, random_state=0)\n",
    "\n",
    "batch_size = 25\n",
    "seed = 42\n",
    "train_datagen = ImageDataGenerator(\n",
    "        rotation_range = 10,\n",
    "        shear_range=0.2,\n",
    "        zoom_range=0.3,\n",
    "        horizontal_flip=False,\n",
    "        vertical_flip = False)\n",
    "\n",
    "test_datagen = ImageDataGenerator(rescale=1.)\n",
    "\n",
    "train_generatorA = train_datagen.flow(X_trainA, y=Y_trainA, batch_size=batch_size,seed=seed)\n",
    "val_generatorA = test_datagen.flow(X_testA,y=Y_testA,batch_size=batch_size,seed=seed)\n",
    "train_generatorB = train_datagen.flow(X_trainB, y=Y_trainB, batch_size=batch_size,seed=seed)\n",
    "val_generatorB = test_datagen.flow(X_testB,y=Y_testB,batch_size=batch_size,seed=seed)"
   ]
  },
  {
   "cell_type": "code",
   "execution_count": 5,
   "metadata": {},
   "outputs": [],
   "source": [
    "def down(filters, input_):\n",
    "    down_ = Conv2D(filters, (3, 3))(input_)\n",
    "    down_res = Activation('relu')(down_)\n",
    "    down_pool = MaxPooling2D((2, 2))(down_)\n",
    "    return down_pool\n",
    "\n",
    "def final_stack(input1_,factor):\n",
    "    flat = Flatten()(input1_)\n",
    "    dense1 = Dense(int(64*factor))(flat)\n",
    "    act1 = Activation('relu')(dense1)\n",
    "    drop = Dropout(0.5)(act1)\n",
    "    dense2 = Dense(2)(drop)\n",
    "    act2 = Activation('softmax')(dense2)\n",
    "    return act2\n",
    "\n",
    "\n",
    "def first_cnn(input_,factor):\n",
    "    down1 = down(int(32*factor),input_)\n",
    "    down2 = down(int(32*factor),down1)\n",
    "    down3 = down(int(64*factor),down2)\n",
    "    down4 = down(int(64*factor),down3)\n",
    "    down5 = down(int(64*factor),down4)\n",
    "    # final = first_final_stack(down5)\n",
    "    return down5\n",
    "\n",
    "def complete_model(input_shape,factor):\n",
    "    input1 = Input(shape=input_shape)\n",
    "    final1 = first_cnn(input1,factor)\n",
    "    final = final_stack(final1,factor)\n",
    "    model = Model(inputs=input1, outputs=final)\n",
    "    return model"
   ]
  },
  {
   "cell_type": "code",
   "execution_count": 6,
   "metadata": {},
   "outputs": [],
   "source": [
    "modelA = complete_model((128, 128,1),2)\n",
    "modelB = complete_model((128,128,1),3)\n",
    "\n",
    "modelA.compile(loss='categorical_crossentropy',\n",
    "              optimizer='Adadelta',\n",
    "              metrics=['accuracy'])\n",
    "modelB.compile(loss='categorical_crossentropy',\n",
    "              optimizer='Adadelta',\n",
    "              metrics=['accuracy'])"
   ]
  },
  {
   "cell_type": "code",
   "execution_count": 7,
   "metadata": {},
   "outputs": [],
   "source": [
    "modelA.load_weights('savio_nets/coteach_modelA_20perror_round1_weights_v1.h5')\n",
    "modelB.load_weights('savio_nets/coteach_modelB_20perror_round1_weights_v1.h5')"
   ]
  },
  {
   "cell_type": "code",
   "execution_count": 8,
   "metadata": {},
   "outputs": [],
   "source": [
    "predAA = modelA.predict(X_testA[:10])\n",
    "predBB = modelB.predict(X_testB[:10])\n",
    "predAB = modelA.predict(X_testB[:10])\n",
    "predBA = modelB.predict(X_testA[:10])"
   ]
  },
  {
   "cell_type": "code",
   "execution_count": 24,
   "metadata": {},
   "outputs": [],
   "source": [
    "def binarize_label_stack(label_stack):\n",
    "    new_label_stack = []\n",
    "    for a in label_stack:\n",
    "        new_label_stack.append([(a[0]-a.min())/(a.max()-a.min()),(a[1]-a.min())/(a.max()-a.min())])\n",
    "    return np.array(new_label_stack)"
   ]
  },
  {
   "cell_type": "code",
   "execution_count": 25,
   "metadata": {},
   "outputs": [],
   "source": [
    "def binarize_label(a):\n",
    "    return [(a[0]-a.min())/(a.max()-a.min()),(a[1]-a.min())/(a.max()-a.min())]"
   ]
  },
  {
   "cell_type": "code",
   "execution_count": 15,
   "metadata": {},
   "outputs": [
    {
     "data": {
      "text/plain": [
       "array([[1., 0.],\n",
       "       [1., 0.],\n",
       "       [0., 1.],\n",
       "       [1., 0.],\n",
       "       [1., 0.],\n",
       "       [0., 1.],\n",
       "       [0., 1.],\n",
       "       [0., 1.],\n",
       "       [1., 0.],\n",
       "       [0., 1.]], dtype=float32)"
      ]
     },
     "execution_count": 15,
     "metadata": {},
     "output_type": "execute_result"
    }
   ],
   "source": [
    "binarize_label(predAA)"
   ]
  },
  {
   "cell_type": "code",
   "execution_count": 16,
   "metadata": {},
   "outputs": [
    {
     "data": {
      "text/plain": [
       "array([[1., 0.],\n",
       "       [1., 0.],\n",
       "       [0., 1.],\n",
       "       [1., 0.],\n",
       "       [1., 0.],\n",
       "       [0., 1.],\n",
       "       [0., 1.],\n",
       "       [0., 1.],\n",
       "       [1., 0.],\n",
       "       [0., 1.]], dtype=float32)"
      ]
     },
     "execution_count": 16,
     "metadata": {},
     "output_type": "execute_result"
    }
   ],
   "source": [
    "binarize_label(predBA)"
   ]
  },
  {
   "cell_type": "code",
   "execution_count": 18,
   "metadata": {},
   "outputs": [
    {
     "data": {
      "text/plain": [
       "array([[1, 0],\n",
       "       [1, 0],\n",
       "       [0, 1],\n",
       "       [1, 0],\n",
       "       [1, 0],\n",
       "       [0, 1],\n",
       "       [0, 1],\n",
       "       [0, 1],\n",
       "       [1, 0],\n",
       "       [0, 1]])"
      ]
     },
     "execution_count": 18,
     "metadata": {},
     "output_type": "execute_result"
    }
   ],
   "source": [
    "correct_testA[:10]"
   ]
  },
  {
   "cell_type": "code",
   "execution_count": 19,
   "metadata": {},
   "outputs": [
    {
     "data": {
      "text/plain": [
       "array([[0, 1],\n",
       "       [1, 0],\n",
       "       [0, 1],\n",
       "       [1, 0],\n",
       "       [1, 0],\n",
       "       [0, 1],\n",
       "       [0, 1],\n",
       "       [0, 1],\n",
       "       [1, 0],\n",
       "       [0, 1]])"
      ]
     },
     "execution_count": 19,
     "metadata": {},
     "output_type": "execute_result"
    }
   ],
   "source": [
    "Y_testA[:10]"
   ]
  },
  {
   "cell_type": "code",
   "execution_count": 22,
   "metadata": {},
   "outputs": [
    {
     "data": {
      "text/plain": [
       "<tf.Tensor: shape=(10,), dtype=float32, numpy=\n",
       "array([1.6118095e+01, 4.5596695e-01, 6.0200873e-06, 5.6150383e-01,\n",
       "       7.1525596e-07, 8.1255317e-02, 5.6087136e-01, 1.1920929e-07,\n",
       "       1.1920929e-07, 1.6153524e-02], dtype=float32)>"
      ]
     },
     "execution_count": 22,
     "metadata": {},
     "output_type": "execute_result"
    }
   ],
   "source": [
    "cce(Y_testA[:10],predAA)"
   ]
  },
  {
   "cell_type": "code",
   "execution_count": 23,
   "metadata": {},
   "outputs": [
    {
     "data": {
      "text/plain": [
       "<tf.Tensor: shape=(10,), dtype=float32, numpy=\n",
       "array([6.0034561e+00, 8.1523396e-02, 1.1920929e-07, 1.1920929e-07,\n",
       "       1.1920929e-07, 7.3158070e-03, 3.7235994e-04, 1.1920929e-07,\n",
       "       1.1920929e-07, 1.1920929e-07], dtype=float32)>"
      ]
     },
     "execution_count": 23,
     "metadata": {},
     "output_type": "execute_result"
    }
   ],
   "source": [
    "cce(Y_testA[:10],predBA)"
   ]
  },
  {
   "cell_type": "code",
   "execution_count": 9,
   "metadata": {},
   "outputs": [
    {
     "data": {
      "text/plain": [
       "array([[1.0000000e+00, 3.6518799e-08],\n",
       "       [6.3383478e-01, 3.6616522e-01],\n",
       "       [6.0400698e-06, 9.9999392e-01],\n",
       "       [5.7035071e-01, 4.2964929e-01],\n",
       "       [9.9999928e-01, 6.9940137e-07],\n",
       "       [7.8041725e-02, 9.2195827e-01],\n",
       "       [4.2928848e-01, 5.7071155e-01],\n",
       "       [3.0834779e-12, 1.0000000e+00],\n",
       "       [1.0000000e+00, 5.8410325e-08],\n",
       "       [1.6023748e-02, 9.8397624e-01]], dtype=float32)"
      ]
     },
     "execution_count": 9,
     "metadata": {},
     "output_type": "execute_result"
    }
   ],
   "source": [
    "predAA"
   ]
  },
  {
   "cell_type": "code",
   "execution_count": 10,
   "metadata": {},
   "outputs": [
    {
     "data": {
      "text/plain": [
       "array([[9.97529805e-01, 2.47020042e-03],\n",
       "       [9.21711087e-01, 7.82888606e-02],\n",
       "       [1.10046493e-13, 1.00000000e+00],\n",
       "       [1.00000000e+00, 8.29256204e-25],\n",
       "       [1.00000000e+00, 2.17720078e-11],\n",
       "       [7.28911860e-03, 9.92710829e-01],\n",
       "       [3.72303562e-04, 9.99627709e-01],\n",
       "       [3.35749630e-14, 1.00000000e+00],\n",
       "       [1.00000000e+00, 8.61563202e-18],\n",
       "       [1.90080563e-13, 1.00000000e+00]], dtype=float32)"
      ]
     },
     "execution_count": 10,
     "metadata": {},
     "output_type": "execute_result"
    }
   ],
   "source": [
    "predBA"
   ]
  },
  {
   "cell_type": "code",
   "execution_count": 27,
   "metadata": {},
   "outputs": [],
   "source": [
    "def new_labels_from_loss(modelA,modelB,XtestA,YtestA,XtestB,YtestB):\n",
    "    predAA = modelA.predict(XtestA)\n",
    "    predBB = modelB.predict(XtestB)\n",
    "    lossAA = cce(YtestA,predAA)\n",
    "    lossBB = cce(YtestB,predBB)\n",
    "    predAB = modelA.predict(XtestB)\n",
    "    predBA = modelB.predict(XtestA)\n",
    "    lossAB = cce(YtestB,predAB)\n",
    "    lossBA = cce(YtestA,predBA)\n",
    "    for idx, lAB in enumerate(lossAB):\n",
    "        if lAB < lossBB[idx]:\n",
    "            YtestB[idx] = binarize_label(predAB[idx])\n",
    "    for idx, lBA in enumerate(lossBA):\n",
    "        if lBA < lossAA[idx]:\n",
    "            YtestA[idx] = binarize_label(predBA[idx])\n",
    "    return YtestA, YtestB"
   ]
  },
  {
   "cell_type": "code",
   "execution_count": 29,
   "metadata": {},
   "outputs": [],
   "source": [
    "Y_trainA, Y_trainB = new_labels_from_loss(modelA,modelB,X_trainA,Y_trainA,X_trainB,Y_trainB)"
   ]
  },
  {
   "cell_type": "code",
   "execution_count": 30,
   "metadata": {},
   "outputs": [],
   "source": [
    "Y_testA, Y_testB = new_labels_from_loss(modelA,modelB,X_testA,Y_testA,X_testB,Y_testB)"
   ]
  },
  {
   "cell_type": "code",
   "execution_count": 33,
   "metadata": {},
   "outputs": [],
   "source": [
    "train_generatorA = train_datagen.flow(X_trainA.repeat(400,axis=0), y=np.array(Y_trainA).repeat(400,axis=0), batch_size=batch_size,seed=seed)\n",
    "val_generatorA = test_datagen.flow(X_testA.repeat(400,axis=0),y=Y_testA.repeat(400,axis=0),batch_size=batch_size,seed=seed)\n",
    "train_generatorB = train_datagen.flow(X_trainB.repeat(400,axis=0), y=Y_trainB.repeat(400,axis=0), batch_size=batch_size,seed=seed)\n",
    "val_generatorB = test_datagen.flow(X_testB.repeat(400,axis=0),y=Y_testB.repeat(400,axis=0),batch_size=batch_size,seed=seed)"
   ]
  },
  {
   "cell_type": "code",
   "execution_count": 64,
   "metadata": {},
   "outputs": [],
   "source": [
    "historyA = modelA.fit_generator(\n",
    "        train_generatorA,\n",
    "        steps_per_epoch=2500,\n",
    "        epochs=2,\n",
    "        validation_data=val_generatorA,\n",
    "        validation_steps=100,\n",
    "        verbose = 0)\n",
    "historyB = modelB.fit_generator(\n",
    "        train_generatorB,\n",
    "        steps_per_epoch=2500,\n",
    "        epochs=2,\n",
    "        validation_data=val_generatorB,\n",
    "        validation_steps=100,\n",
    "        verbose = 0)"
   ]
  },
  {
   "cell_type": "code",
   "execution_count": 65,
   "metadata": {},
   "outputs": [
    {
     "name": "stdout",
     "output_type": "stream",
     "text": [
      "7/7 [==============================] - 1s 92ms/step - loss: 1.0608 - accuracy: 0.8196\n",
      "7/7 [==============================] - 1s 164ms/step - loss: 3.0488 - accuracy: 0.7680\n",
      "[1.060799479484558, 0.8195876479148865] [3.048786163330078, 0.7680412530899048]\n"
     ]
    }
   ],
   "source": [
    "X_val = np.concatenate((new_right_images[286:],new_left_images[286:]),axis = 0)\n",
    "Y_val = np.concatenate((new_right_labels[286:],new_left_labels[286:]),axis = 0)\n",
    "X_val = X_val/X_val.max()\n",
    "X_val = np.expand_dims(X_val,axis=3)\n",
    "X_val, Y_val = utils.shuffle(X_val, Y_val,random_state=0)\n",
    "print(modelA.evaluate(X_val,Y_val),modelB.evaluate(X_val,Y_val))"
   ]
  },
  {
   "cell_type": "code",
   "execution_count": 102,
   "metadata": {},
   "outputs": [],
   "source": [
    "predAA = modelA.predict(X_testA[10:20])\n",
    "predBB = modelB.predict(X_testB[10:20])\n",
    "predAB = modelA.predict(X_testB[10:20])\n",
    "predBA = modelB.predict(X_testA[10:20])"
   ]
  },
  {
   "cell_type": "code",
   "execution_count": 103,
   "metadata": {},
   "outputs": [
    {
     "data": {
      "text/plain": [
       "array([[0., 1.],\n",
       "       [1., 0.],\n",
       "       [0., 1.],\n",
       "       [0., 1.],\n",
       "       [0., 1.],\n",
       "       [0., 1.],\n",
       "       [0., 1.],\n",
       "       [0., 1.],\n",
       "       [0., 1.],\n",
       "       [1., 0.]], dtype=float32)"
      ]
     },
     "execution_count": 103,
     "metadata": {},
     "output_type": "execute_result"
    }
   ],
   "source": [
    "binarize_label_stack(predAA)"
   ]
  },
  {
   "cell_type": "code",
   "execution_count": 104,
   "metadata": {},
   "outputs": [
    {
     "data": {
      "text/plain": [
       "array([[0, 1],\n",
       "       [0, 1],\n",
       "       [0, 1],\n",
       "       [0, 1],\n",
       "       [0, 1],\n",
       "       [0, 1],\n",
       "       [0, 1],\n",
       "       [1, 0],\n",
       "       [0, 1],\n",
       "       [1, 0]])"
      ]
     },
     "execution_count": 104,
     "metadata": {},
     "output_type": "execute_result"
    }
   ],
   "source": [
    "Y_testA[10:20]"
   ]
  },
  {
   "cell_type": "code",
   "execution_count": 105,
   "metadata": {},
   "outputs": [
    {
     "data": {
      "text/plain": [
       "array([[1., 0.],\n",
       "       [0., 1.],\n",
       "       [0., 1.],\n",
       "       [1., 0.],\n",
       "       [0., 1.],\n",
       "       [0., 1.],\n",
       "       [1., 0.],\n",
       "       [0., 1.],\n",
       "       [0., 1.],\n",
       "       [0., 1.]], dtype=float32)"
      ]
     },
     "execution_count": 105,
     "metadata": {},
     "output_type": "execute_result"
    }
   ],
   "source": [
    "binarize_label_stack(predBA)"
   ]
  },
  {
   "cell_type": "code",
   "execution_count": 106,
   "metadata": {},
   "outputs": [
    {
     "data": {
      "text/plain": [
       "array([[0, 1],\n",
       "       [1, 0],\n",
       "       [0, 1],\n",
       "       [0, 1],\n",
       "       [0, 1],\n",
       "       [0, 1],\n",
       "       [1, 0],\n",
       "       [1, 0],\n",
       "       [0, 1],\n",
       "       [1, 0]])"
      ]
     },
     "execution_count": 106,
     "metadata": {},
     "output_type": "execute_result"
    }
   ],
   "source": [
    "correct_testA[10:20]"
   ]
  },
  {
   "cell_type": "code",
   "execution_count": 44,
   "metadata": {},
   "outputs": [
    {
     "data": {
      "text/plain": [
       "array([[3.3712651e-19, 1.0000000e+00],\n",
       "       [9.9999249e-01, 7.5079361e-06],\n",
       "       [4.9091926e-09, 1.0000000e+00],\n",
       "       [3.3281555e-07, 9.9999964e-01],\n",
       "       [3.6769162e-15, 1.0000000e+00],\n",
       "       [2.0375728e-06, 9.9999797e-01],\n",
       "       [9.9818461e-02, 9.0018153e-01],\n",
       "       [6.5484094e-03, 9.9345160e-01],\n",
       "       [3.4760337e-04, 9.9965239e-01],\n",
       "       [9.9999344e-01, 6.5497129e-06]], dtype=float32)"
      ]
     },
     "execution_count": 44,
     "metadata": {},
     "output_type": "execute_result"
    }
   ],
   "source": [
    "predAA"
   ]
  },
  {
   "cell_type": "code",
   "execution_count": 45,
   "metadata": {},
   "outputs": [
    {
     "data": {
      "text/plain": [
       "array([[9.8348886e-01, 1.6511189e-02],\n",
       "       [1.3943300e-06, 9.9999857e-01],\n",
       "       [2.0781491e-04, 9.9979216e-01],\n",
       "       [9.9990785e-01, 9.2181901e-05],\n",
       "       [1.6566629e-10, 1.0000000e+00],\n",
       "       [2.0816040e-08, 1.0000000e+00],\n",
       "       [9.9999046e-01, 9.5133291e-06],\n",
       "       [3.8139169e-05, 9.9996185e-01],\n",
       "       [2.4024142e-02, 9.7597581e-01],\n",
       "       [1.6198659e-01, 8.3801341e-01]], dtype=float32)"
      ]
     },
     "execution_count": 45,
     "metadata": {},
     "output_type": "execute_result"
    }
   ],
   "source": [
    "predBA"
   ]
  },
  {
   "cell_type": "code",
   "execution_count": 46,
   "metadata": {},
   "outputs": [
    {
     "data": {
      "text/plain": [
       "<tf.Tensor: shape=(10,), dtype=float32, numpy=\n",
       "array([1.1920929e-07, 1.1799550e+01, 1.1920929e-07, 3.5762793e-07,\n",
       "       1.1920929e-07, 2.0265600e-06, 1.0515883e-01, 5.0285330e+00,\n",
       "       3.4767471e-04, 6.5565323e-06], dtype=float32)>"
      ]
     },
     "execution_count": 46,
     "metadata": {},
     "output_type": "execute_result"
    }
   ],
   "source": [
    "cce(Y_testA[10:20],predAA)"
   ]
  },
  {
   "cell_type": "code",
   "execution_count": 47,
   "metadata": {},
   "outputs": [
    {
     "data": {
      "text/plain": [
       "<tf.Tensor: shape=(10,), dtype=float32, numpy=\n",
       "array([4.1037169e+00, 1.3709077e-06, 2.0786299e-04, 9.2917471e+00,\n",
       "       1.1920929e-07, 1.1920929e-07, 1.1562817e+01, 1.0174269e+01,\n",
       "       2.4317415e-02, 1.8202417e+00], dtype=float32)>"
      ]
     },
     "execution_count": 47,
     "metadata": {},
     "output_type": "execute_result"
    }
   ],
   "source": [
    "cce(Y_testA[10:20],predBA)"
   ]
  },
  {
   "cell_type": "code",
   "execution_count": 56,
   "metadata": {},
   "outputs": [
    {
     "data": {
      "text/plain": [
       "array([[0, 1],\n",
       "       [0, 1],\n",
       "       [0, 1],\n",
       "       [0, 1],\n",
       "       [0, 1],\n",
       "       [0, 1],\n",
       "       [0, 1],\n",
       "       [1, 0],\n",
       "       [0, 1],\n",
       "       [1, 0]])"
      ]
     },
     "execution_count": 56,
     "metadata": {},
     "output_type": "execute_result"
    }
   ],
   "source": [
    "Y_testA[10:20]"
   ]
  },
  {
   "cell_type": "code",
   "execution_count": 57,
   "metadata": {},
   "outputs": [
    {
     "data": {
      "text/plain": [
       "array([[1., 0.],\n",
       "       [0., 1.],\n",
       "       [0., 1.],\n",
       "       [1., 0.],\n",
       "       [0., 1.],\n",
       "       [0., 1.],\n",
       "       [1., 0.],\n",
       "       [0., 1.],\n",
       "       [0., 1.],\n",
       "       [0., 1.]], dtype=float32)"
      ]
     },
     "execution_count": 57,
     "metadata": {},
     "output_type": "execute_result"
    }
   ],
   "source": [
    "binarize_label_stack(predBA)"
   ]
  },
  {
   "cell_type": "code",
   "execution_count": 50,
   "metadata": {},
   "outputs": [
    {
     "data": {
      "text/plain": [
       "array([[0, 1],\n",
       "       [1, 0],\n",
       "       [0, 1],\n",
       "       [0, 1],\n",
       "       [0, 1],\n",
       "       [0, 1],\n",
       "       [1, 0],\n",
       "       [1, 0],\n",
       "       [0, 1],\n",
       "       [1, 0]])"
      ]
     },
     "execution_count": 50,
     "metadata": {},
     "output_type": "execute_result"
    }
   ],
   "source": [
    "correct_testA[10:20]"
   ]
  },
  {
   "cell_type": "code",
   "execution_count": 52,
   "metadata": {},
   "outputs": [
    {
     "data": {
      "text/plain": [
       "<matplotlib.image.AxesImage at 0x1a4c7fd358>"
      ]
     },
     "execution_count": 52,
     "metadata": {},
     "output_type": "execute_result"
    },
    {
     "data": {
      "image/png": "[encoded data removed]",
      "text/plain": [
       "<Figure size 432x288 with 1 Axes>"
      ]
     },
     "metadata": {},
     "output_type": "display_data"
    }
   ],
   "source": [
    "plt.imshow(X_testA[11,:,:,0])"
   ]
  },
  {
   "cell_type": "code",
   "execution_count": 53,
   "metadata": {},
   "outputs": [
    {
     "data": {
      "text/plain": [
       "array([[1., 0.],\n",
       "       [0., 1.],\n",
       "       [0., 1.],\n",
       "       [1., 0.],\n",
       "       [0., 1.],\n",
       "       [0., 1.],\n",
       "       [1., 0.],\n",
       "       [0., 1.],\n",
       "       [0., 1.],\n",
       "       [0., 1.]], dtype=float32)"
      ]
     },
     "execution_count": 53,
     "metadata": {},
     "output_type": "execute_result"
    }
   ],
   "source": [
    "binarize_label_stack(predBA)"
   ]
  },
  {
   "cell_type": "code",
   "execution_count": 58,
   "metadata": {},
   "outputs": [
    {
     "data": {
      "text/plain": [
       "0.0"
      ]
     },
     "execution_count": 58,
     "metadata": {},
     "output_type": "execute_result"
    }
   ],
   "source": [
    "metrics.accuracy_score(Y_testA[0],binarize_label(predAA[0]))"
   ]
  },
  {
   "cell_type": "code",
   "execution_count": 59,
   "metadata": {},
   "outputs": [
    {
     "data": {
      "text/plain": [
       "array([1, 0])"
      ]
     },
     "execution_count": 59,
     "metadata": {},
     "output_type": "execute_result"
    }
   ],
   "source": [
    "Y_testA[0]"
   ]
  },
  {
   "cell_type": "code",
   "execution_count": 60,
   "metadata": {},
   "outputs": [
    {
     "data": {
      "text/plain": [
       "array([3.371265e-19, 1.000000e+00], dtype=float32)"
      ]
     },
     "execution_count": 60,
     "metadata": {},
     "output_type": "execute_result"
    }
   ],
   "source": [
    "predAA[0]"
   ]
  },
  {
   "cell_type": "code",
   "execution_count": 61,
   "metadata": {},
   "outputs": [
    {
     "data": {
      "text/plain": [
       "1.0"
      ]
     },
     "execution_count": 61,
     "metadata": {},
     "output_type": "execute_result"
    }
   ],
   "source": [
    "metrics.accuracy_score(Y_testA[0],binarize_label(predBA[0]))"
   ]
  },
  {
   "cell_type": "code",
   "execution_count": 62,
   "metadata": {},
   "outputs": [
    {
     "data": {
      "text/plain": [
       "array([0.98348886, 0.01651119], dtype=float32)"
      ]
     },
     "execution_count": 62,
     "metadata": {},
     "output_type": "execute_result"
    }
   ],
   "source": [
    "predBA[0]"
   ]
  },
  {
   "cell_type": "code",
   "execution_count": 90,
   "metadata": {},
   "outputs": [
    {
     "data": {
      "text/plain": [
       "1.1920929e-07"
      ]
     },
     "execution_count": 90,
     "metadata": {},
     "output_type": "execute_result"
    }
   ],
   "source": [
    "cce([0,1],[0,.999]).numpy()"
   ]
  },
  {
   "cell_type": "code",
   "execution_count": 92,
   "metadata": {},
   "outputs": [
    {
     "data": {
      "text/plain": [
       "6.9077554"
      ]
     },
     "execution_count": 92,
     "metadata": {},
     "output_type": "execute_result"
    }
   ],
   "source": [
    "cce([0,1],[.999,.001]).numpy()"
   ]
  },
  {
   "cell_type": "code",
   "execution_count": 83,
   "metadata": {},
   "outputs": [],
   "source": [
    "prob = np.arange(0,1,0.01)"
   ]
  },
  {
   "cell_type": "code",
   "execution_count": 84,
   "metadata": {},
   "outputs": [],
   "source": [
    "bce_bad = -(np.log(1-prob))"
   ]
  },
  {
   "cell_type": "code",
   "execution_count": 85,
   "metadata": {},
   "outputs": [
    {
     "name": "stderr",
     "output_type": "stream",
     "text": [
      "/Users/cgroschner/anaconda/lib/python3.6/site-packages/ipykernel_launcher.py:1: RuntimeWarning: divide by zero encountered in log\n",
      "  \"\"\"Entry point for launching an IPython kernel.\n"
     ]
    }
   ],
   "source": [
    "bce_good = -(np.log(prob))"
   ]
  },
  {
   "cell_type": "code",
   "execution_count": 89,
   "metadata": {},
   "outputs": [
    {
     "data": {
      "text/plain": [
       "<matplotlib.legend.Legend at 0x1a504c3ac8>"
      ]
     },
     "execution_count": 89,
     "metadata": {},
     "output_type": "execute_result"
    },
    {
     "data": {
      "image/png": "[encoded data removed]",
      "text/plain": [
       "<Figure size 432x288 with 1 Axes>"
      ]
     },
     "metadata": {},
     "output_type": "display_data"
    }
   ],
   "source": [
    "plt.plot(prob,bce_good,label='good')\n",
    "plt.plot(prob,bce_bad,label='bad')\n",
    "plt.legend()"
   ]
  },
  {
   "cell_type": "code",
   "execution_count": 95,
   "metadata": {},
   "outputs": [],
   "source": [
    "def decide_new_label(predAA,predBA,current_label):\n",
    "    matchAA = metrics.accuracy_score(current_label,binarize_label(predAA))\n",
    "    matchBA = metrics.accuracy_score(current_label,binarize_label(predBA))\n",
    "    CAA = predAA.max()\n",
    "    CBA = predBA.max()\n",
    "    difC = np.abs(CAA - CBA)\n",
    "    LAA = cce(current_label,predAA).numpy()\n",
    "    LAB = cce(current_label,predBA).numpy()\n",
    "    new = current_label\n",
    "    if matchAA == 1 and matchBA == 1:\n",
    "        new = current_label\n",
    "    elif matchAA == 0 and matchBA == 0:\n",
    "        new = binarize_label(predBA)\n",
    "    elif matchAA == 1 and matchBA == 0:\n",
    "        if CBA > CAA and CBA > 0.6:\n",
    "            new = binarize_label(predBA)\n",
    "        elif CBA > CAA and CBA < 0.6:\n",
    "            new = current_label\n",
    "        elif CBA < CAA and difC < 0.05 and CBA > 0.85:\n",
    "            new = binarize_label(predBA)\n",
    "        elif CBA < CAA and difC < 0.05 and CBA < 0.85:\n",
    "            new = current_label\n",
    "    elif matchAA == 0 and matchBA == 1:\n",
    "        if CAA > CBA and CAA > 0.6:\n",
    "            new = binarize_label(predAA)\n",
    "        elif CAA > CBA and CAA < 0.6:\n",
    "            new = current_label\n",
    "        elif CAA < CBA and difC < 0.05 and CAA > 0.85:\n",
    "            new = binarize_label(predAA)\n",
    "        elif CAA < CBA and difC < 0.05 and CAA < 0.85:\n",
    "            new = current_label\n",
    "    return new"
   ]
  },
  {
   "cell_type": "code",
   "execution_count": 97,
   "metadata": {},
   "outputs": [
    {
     "data": {
      "text/plain": [
       "array([[3.3712651e-19, 1.0000000e+00],\n",
       "       [9.9999249e-01, 7.5079361e-06],\n",
       "       [4.9091926e-09, 1.0000000e+00],\n",
       "       [3.3281555e-07, 9.9999964e-01],\n",
       "       [3.6769162e-15, 1.0000000e+00],\n",
       "       [2.0375728e-06, 9.9999797e-01],\n",
       "       [9.9818461e-02, 9.0018153e-01],\n",
       "       [6.5484094e-03, 9.9345160e-01],\n",
       "       [3.4760337e-04, 9.9965239e-01],\n",
       "       [9.9999344e-01, 6.5497129e-06]], dtype=float32)"
      ]
     },
     "execution_count": 97,
     "metadata": {},
     "output_type": "execute_result"
    }
   ],
   "source": [
    "predAA"
   ]
  },
  {
   "cell_type": "code",
   "execution_count": 98,
   "metadata": {},
   "outputs": [
    {
     "data": {
      "text/plain": [
       "array([[9.8348886e-01, 1.6511189e-02],\n",
       "       [1.3943300e-06, 9.9999857e-01],\n",
       "       [2.0781491e-04, 9.9979216e-01],\n",
       "       [9.9990785e-01, 9.2181901e-05],\n",
       "       [1.6566629e-10, 1.0000000e+00],\n",
       "       [2.0816040e-08, 1.0000000e+00],\n",
       "       [9.9999046e-01, 9.5133291e-06],\n",
       "       [3.8139169e-05, 9.9996185e-01],\n",
       "       [2.4024142e-02, 9.7597581e-01],\n",
       "       [1.6198659e-01, 8.3801341e-01]], dtype=float32)"
      ]
     },
     "execution_count": 98,
     "metadata": {},
     "output_type": "execute_result"
    }
   ],
   "source": [
    "predBA"
   ]
  },
  {
   "cell_type": "code",
   "execution_count": 99,
   "metadata": {},
   "outputs": [
    {
     "data": {
      "text/plain": [
       "array([[0, 1],\n",
       "       [0, 1],\n",
       "       [0, 1],\n",
       "       [0, 1],\n",
       "       [0, 1],\n",
       "       [0, 1],\n",
       "       [0, 1],\n",
       "       [1, 0],\n",
       "       [0, 1],\n",
       "       [1, 0]])"
      ]
     },
     "execution_count": 99,
     "metadata": {},
     "output_type": "execute_result"
    }
   ],
   "source": [
    "Y_testA[10:20]"
   ]
  },
  {
   "cell_type": "code",
   "execution_count": 117,
   "metadata": {},
   "outputs": [
    {
     "data": {
      "text/plain": [
       "array([0, 1])"
      ]
     },
     "execution_count": 117,
     "metadata": {},
     "output_type": "execute_result"
    }
   ],
   "source": [
    "decide_new_label(predAA[5],predBA[5],Y_testA[15])"
   ]
  },
  {
   "cell_type": "code",
   "execution_count": 118,
   "metadata": {},
   "outputs": [
    {
     "data": {
      "text/plain": [
       "array([0, 1])"
      ]
     },
     "execution_count": 118,
     "metadata": {},
     "output_type": "execute_result"
    }
   ],
   "source": [
    "correct_testA[15]"
   ]
  },
  {
   "cell_type": "code",
   "execution_count": null,
   "metadata": {},
   "outputs": [],
   "source": []
  }
 ],
 "metadata": {
  "kernelspec": {
   "display_name": "Python (fouriernet)",
   "language": "python",
   "name": "fouriernet"
  },
  "language_info": {
   "codemirror_mode": {
    "name": "ipython",
    "version": 3
   },
   "file_extension": ".py",
   "mimetype": "text/x-python",
   "name": "python",
   "nbconvert_exporter": "python",
   "pygments_lexer": "ipython3",
   "version": "3.6.10"
  }
 },
 "nbformat": 4,
 "nbformat_minor": 2
}
