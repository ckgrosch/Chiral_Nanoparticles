{
 "cells": [
  {
   "cell_type": "code",
   "execution_count": 24,
   "metadata": {},
   "outputs": [],
   "source": [
    "# from keras.models import Sequential\n",
    "# from keras.layers import Conv2D, MaxPooling2D\n",
    "# from keras.layers import Activation, Dropout, Flatten, Dense\n",
    "import numpy as np\n",
    "import matplotlib.pyplot as plt\n",
    "from keras.preprocessing.image import ImageDataGenerator\n",
    "# from keras.utils import to_categorical\n",
    "from sklearn import metrics\n",
    "import h5py\n",
    "from sklearn import utils\n",
    "\n",
    "import tensorflow as tf\n",
    "from tensorflow import keras\n",
    "from tensorflow.keras.layers import Conv2D, MaxPooling2D, Activation, Dropout, Flatten, Dense\n",
    "from tensorflow.keras.models import Sequential, load_model"
   ]
  },
  {
   "cell_type": "code",
   "execution_count": 4,
   "metadata": {},
   "outputs": [],
   "source": [
    "right_images = np.load('20200514_right__Chiral_D_Large_TIFF_Cropped_four_rows_sel_NPs_rotated.npy')\n",
    "right_labels = [[1,0] for i in np.arange(0,len(right_images))]\n",
    "left_images = np.load('20200514_right__Chiral_D_Large_TIFF_Cropped_four_rows_sel_NPs_rotated.npy')\n",
    "left_labels = [[0,1] for i in np.arange(0,len(left_images))]"
   ]
  },
  {
   "cell_type": "code",
   "execution_count": 5,
   "metadata": {},
   "outputs": [],
   "source": [
    "#adding left images to create \"assumed right images\"\n",
    "for img in left_images:\n",
    "    np.append(right_images,img)\n",
    "    np.append(right_labels,[1,0])"
   ]
  },
  {
   "cell_type": "code",
   "execution_count": 6,
   "metadata": {},
   "outputs": [],
   "source": [
    "new_left_images = []\n",
    "new_left_labels = []\n",
    "for img in right_images:\n",
    "    new_left_images.append(np.fliplr(img))\n",
    "    new_left_labels.append([0,1])"
   ]
  },
  {
   "cell_type": "code",
   "execution_count": 7,
   "metadata": {
    "scrolled": true
   },
   "outputs": [
    {
     "data": {
      "text/plain": [
       "(383, 128, 128)"
      ]
     },
     "execution_count": 7,
     "metadata": {},
     "output_type": "execute_result"
    }
   ],
   "source": [
    "right_images.shape"
   ]
  },
  {
   "cell_type": "code",
   "execution_count": 8,
   "metadata": {},
   "outputs": [],
   "source": [
    "X_train = np.concatenate((right_images[:191],new_left_images[:191]),axis =0)\n",
    "Y_train = np.concatenate((right_labels[:191],new_left_labels[:191]),axis = 0)\n",
    "X_test = np.concatenate((right_images[191:286],new_left_images[191:286]),axis = 0)\n",
    "Y_test = np.concatenate((right_labels[191:286],new_left_labels[191:286]),axis = 0)"
   ]
  },
  {
   "cell_type": "code",
   "execution_count": 6,
   "metadata": {},
   "outputs": [],
   "source": [
    "X_train_norm = X_train/X_train.max()\n",
    "X_test_norm = X_test/X_test.max()\n",
    "X_train_norm = np.expand_dims(X_train_norm,axis=3)\n",
    "X_test_norm = np.expand_dims(X_test_norm,axis=3)"
   ]
  },
  {
   "cell_type": "code",
   "execution_count": 7,
   "metadata": {},
   "outputs": [],
   "source": [
    "X_train_shuff, Y_train_shuff = utils.shuffle(X_train_norm, Y_train,random_state=0)\n",
    "X_test_shuff, Y_test_shuff = utils.shuffle(X_test_norm, Y_test,random_state=0)"
   ]
  },
  {
   "cell_type": "code",
   "execution_count": 8,
   "metadata": {},
   "outputs": [],
   "source": [
    "i = h5py.File('20200514_Train_shuff_Chiral_D_Large_TIFF_Cropped_four_rows_sel_NPs_rotated.h5','w')\n",
    "i.create_dataset('images',data=X_train_shuff)\n",
    "i.create_dataset('labels',data=Y_train_shuff)\n",
    "i.close()"
   ]
  },
  {
   "cell_type": "code",
   "execution_count": 9,
   "metadata": {},
   "outputs": [],
   "source": [
    "i = h5py.File('20200514_Test_shuff_Chiral_D_Large_TIFF_Cropped_four_rows_sel_NPs_rotated.h5','w')\n",
    "i.create_dataset('images',data=X_test_shuff)\n",
    "i.create_dataset('labels',data=Y_test_shuff)\n",
    "i.close()"
   ]
  },
  {
   "cell_type": "code",
   "execution_count": 10,
   "metadata": {},
   "outputs": [],
   "source": [
    "batch_size = 20\n",
    "seed = 42\n",
    "train_datagen = ImageDataGenerator(\n",
    "        shear_range=0.2,\n",
    "        zoom_range=0.2,\n",
    "        horizontal_flip=False,\n",
    "        vertical_flip = False)\n",
    "\n",
    "test_datagen = ImageDataGenerator(rescale=1.)\n",
    "\n",
    "train_generator = train_datagen.flow(X_train_shuff, y=Y_train_shuff, batch_size=batch_size,seed=seed)\n",
    "val_generator = test_datagen.flow(X_test_shuff,y=Y_test_shuff,batch_size=batch_size,seed=seed)"
   ]
  },
  {
   "cell_type": "code",
   "execution_count": 25,
   "metadata": {},
   "outputs": [],
   "source": [
    "modelB = Sequential()\n",
    "modelB.add(Conv2D(32, (3, 3), input_shape=(128, 128,1)))\n",
    "modelB.add(Activation('relu'))\n",
    "modelB.add(MaxPooling2D(pool_size=(2, 2)))\n",
    "\n",
    "modelB.add(Conv2D(32, (3, 3)))\n",
    "modelB.add(Activation('relu'))\n",
    "modelB.add(MaxPooling2D(pool_size=(2, 2)))\n",
    "\n",
    "modelB.add(Conv2D(64, (3, 3)))\n",
    "modelB.add(Activation('relu'))\n",
    "modelB.add(MaxPooling2D(pool_size=(2, 2)))\n",
    "\n",
    "modelB.add(Conv2D(64, (3, 3)))\n",
    "modelB.add(Activation('relu'))\n",
    "modelB.add(MaxPooling2D(pool_size=(2, 2)))\n",
    "\n",
    "modelB.add(Conv2D(64, (3, 3)))\n",
    "modelB.add(Activation('relu'))\n",
    "modelB.add(MaxPooling2D(pool_size=(2, 2)))\n",
    "\n",
    "modelB.add(Flatten())  # this converts our 3D feature maps to 1D feature vectors\n",
    "modelB.add(Dense(64))\n",
    "modelB.add(Activation('relu'))\n",
    "modelB.add(Dropout(0.5))\n",
    "modelB.add(Dense(2))\n",
    "modelB.add(Activation('softmax'))\n",
    "\n",
    "modelB.compile(loss='categorical_crossentropy',\n",
    "              optimizer='rmsprop',\n",
    "              metrics=['accuracy'])"
   ]
  },
  {
   "cell_type": "code",
   "execution_count": 26,
   "metadata": {},
   "outputs": [
    {
     "name": "stdout",
     "output_type": "stream",
     "text": [
      "Epoch 1/20\n",
      "25/25 [==============================] - 6s 256ms/step - loss: 0.6955 - acc: 0.4867 - val_loss: 0.6970 - val_acc: 0.5000\n",
      "Epoch 2/20\n",
      "25/25 [==============================] - 6s 227ms/step - loss: 0.6987 - acc: 0.4965 - val_loss: 0.6930 - val_acc: 0.5000\n",
      "Epoch 3/20\n",
      "25/25 [==============================] - 6s 230ms/step - loss: 0.6941 - acc: 0.5173 - val_loss: 0.6928 - val_acc: 0.5000\n",
      "Epoch 4/20\n",
      "25/25 [==============================] - 6s 236ms/step - loss: 0.6951 - acc: 0.4887 - val_loss: 0.6931 - val_acc: 0.5000\n",
      "Epoch 5/20\n",
      "25/25 [==============================] - 6s 226ms/step - loss: 0.6972 - acc: 0.5193 - val_loss: 0.6934 - val_acc: 0.5000\n",
      "Epoch 6/20\n",
      "25/25 [==============================] - 6s 228ms/step - loss: 0.6924 - acc: 0.5060 - val_loss: 0.6936 - val_acc: 0.5000\n",
      "Epoch 7/20\n",
      "25/25 [==============================] - 6s 237ms/step - loss: 0.6940 - acc: 0.5100 - val_loss: 0.6929 - val_acc: 0.5000\n",
      "Epoch 8/20\n",
      "25/25 [==============================] - 6s 226ms/step - loss: 0.6955 - acc: 0.4639 - val_loss: 0.6929 - val_acc: 0.5000\n",
      "Epoch 9/20\n",
      "25/25 [==============================] - 6s 222ms/step - loss: 0.6934 - acc: 0.5213 - val_loss: 0.6927 - val_acc: 0.5000\n",
      "Epoch 10/20\n",
      "25/25 [==============================] - 6s 241ms/step - loss: 0.6937 - acc: 0.5100 - val_loss: 0.6931 - val_acc: 0.5000\n",
      "Epoch 11/20\n",
      "25/25 [==============================] - 6s 222ms/step - loss: 0.6952 - acc: 0.4779 - val_loss: 0.6931 - val_acc: 0.5000\n",
      "Epoch 12/20\n",
      "25/25 [==============================] - 6s 228ms/step - loss: 0.6937 - acc: 0.4987 - val_loss: 0.6931 - val_acc: 0.5000\n",
      "Epoch 13/20\n",
      "25/25 [==============================] - 6s 237ms/step - loss: 0.6962 - acc: 0.5073 - val_loss: 0.6928 - val_acc: 0.5000\n",
      "Epoch 14/20\n",
      "25/25 [==============================] - 6s 236ms/step - loss: 0.6942 - acc: 0.4907 - val_loss: 0.6930 - val_acc: 0.5000\n",
      "Epoch 15/20\n",
      "25/25 [==============================] - 6s 222ms/step - loss: 0.6945 - acc: 0.4707 - val_loss: 0.6929 - val_acc: 0.5000\n",
      "Epoch 16/20\n",
      "25/25 [==============================] - 6s 233ms/step - loss: 0.6948 - acc: 0.4927 - val_loss: 0.6923 - val_acc: 0.5158\n",
      "Epoch 17/20\n",
      "25/25 [==============================] - 6s 233ms/step - loss: 0.6940 - acc: 0.5013 - val_loss: 0.6904 - val_acc: 0.5053\n",
      "Epoch 18/20\n",
      "25/25 [==============================] - 6s 233ms/step - loss: 0.6894 - acc: 0.5441 - val_loss: 0.6853 - val_acc: 0.5737\n",
      "Epoch 19/20\n",
      "25/25 [==============================] - 6s 227ms/step - loss: 0.6960 - acc: 0.5173 - val_loss: 0.6886 - val_acc: 0.5632\n",
      "Epoch 20/20\n",
      "25/25 [==============================] - 6s 232ms/step - loss: 0.6908 - acc: 0.5561 - val_loss: 0.6838 - val_acc: 0.5789\n"
     ]
    }
   ],
   "source": [
    "historyB = modelB.fit_generator(\n",
    "        train_generator,\n",
    "        steps_per_epoch=500 // batch_size,\n",
    "        epochs=20,\n",
    "        validation_data=val_generator,\n",
    "        validation_steps=200 // batch_size)"
   ]
  },
  {
   "cell_type": "code",
   "execution_count": 34,
   "metadata": {},
   "outputs": [],
   "source": [
    "# didn't train even though last time this model worked \n",
    "#adding rotation back in train generator\n",
    "batch_size = 20\n",
    "seed = 42\n",
    "train_datagen = ImageDataGenerator(\n",
    "        rotation_range = 10,\n",
    "        shear_range=0.2,\n",
    "        zoom_range=0.2,\n",
    "        horizontal_flip=False,\n",
    "        vertical_flip = False)\n",
    "\n",
    "test_datagen = ImageDataGenerator(rescale=1.)\n",
    "\n",
    "train_generator = train_datagen.flow(X_train_shuff, y=Y_train_shuff, batch_size=batch_size,seed=seed)\n",
    "val_generator = test_datagen.flow(X_test_shuff,y=Y_test_shuff,batch_size=batch_size,seed=seed)"
   ]
  },
  {
   "cell_type": "code",
   "execution_count": 28,
   "metadata": {},
   "outputs": [],
   "source": [
    "modelC = Sequential()\n",
    "modelC.add(Conv2D(32, (3, 3), input_shape=(128, 128,1)))\n",
    "modelC.add(Activation('relu'))\n",
    "modelC.add(MaxPooling2D(pool_size=(2, 2)))\n",
    "\n",
    "modelC.add(Conv2D(32, (3, 3)))\n",
    "modelC.add(Activation('relu'))\n",
    "modelC.add(MaxPooling2D(pool_size=(2, 2)))\n",
    "\n",
    "modelC.add(Conv2D(64, (3, 3)))\n",
    "modelC.add(Activation('relu'))\n",
    "modelC.add(MaxPooling2D(pool_size=(2, 2)))\n",
    "\n",
    "modelC.add(Conv2D(64, (3, 3)))\n",
    "modelC.add(Activation('relu'))\n",
    "modelC.add(MaxPooling2D(pool_size=(2, 2)))\n",
    "\n",
    "modelC.add(Conv2D(64, (3, 3)))\n",
    "modelC.add(Activation('relu'))\n",
    "modelC.add(MaxPooling2D(pool_size=(2, 2)))\n",
    "\n",
    "modelC.add(Flatten())  # this converts our 3D feature maps to 1D feature vectors\n",
    "modelC.add(Dense(64))\n",
    "modelC.add(Activation('relu'))\n",
    "modelC.add(Dropout(0.5))\n",
    "modelC.add(Dense(2))\n",
    "modelC.add(Activation('softmax'))\n",
    "\n",
    "modelC.compile(loss='categorical_crossentropy',\n",
    "              optimizer='rmsprop',\n",
    "              metrics=['accuracy'])"
   ]
  },
  {
   "cell_type": "code",
   "execution_count": 29,
   "metadata": {
    "scrolled": false
   },
   "outputs": [
    {
     "name": "stdout",
     "output_type": "stream",
     "text": [
      "Epoch 1/40\n",
      "25/25 [==============================] - 6s 247ms/step - loss: 0.7010 - acc: 0.4867 - val_loss: 0.6934 - val_acc: 0.5000\n",
      "Epoch 2/40\n",
      "25/25 [==============================] - 6s 235ms/step - loss: 0.6951 - acc: 0.5140 - val_loss: 0.6931 - val_acc: 0.5000\n",
      "Epoch 3/40\n",
      "25/25 [==============================] - 8s 302ms/step - loss: 0.6935 - acc: 0.4927 - val_loss: 0.7076 - val_acc: 0.5000\n",
      "Epoch 4/40\n",
      "25/25 [==============================] - 7s 281ms/step - loss: 0.6965 - acc: 0.5080 - val_loss: 0.6927 - val_acc: 0.5000\n",
      "Epoch 5/40\n",
      "25/25 [==============================] - 6s 251ms/step - loss: 0.6954 - acc: 0.4772 - val_loss: 0.6931 - val_acc: 0.5000\n",
      "Epoch 6/40\n",
      "25/25 [==============================] - 6s 245ms/step - loss: 0.6990 - acc: 0.4987 - val_loss: 0.6928 - val_acc: 0.5368\n",
      "Epoch 7/40\n",
      "25/25 [==============================] - 6s 258ms/step - loss: 0.6940 - acc: 0.4707 - val_loss: 0.6935 - val_acc: 0.5000\n",
      "Epoch 8/40\n",
      "25/25 [==============================] - 6s 256ms/step - loss: 0.6963 - acc: 0.4619 - val_loss: 0.6931 - val_acc: 0.5000\n",
      "Epoch 9/40\n",
      "25/25 [==============================] - 6s 245ms/step - loss: 0.6949 - acc: 0.4847 - val_loss: 0.6929 - val_acc: 0.5000\n",
      "Epoch 10/40\n",
      "25/25 [==============================] - 6s 235ms/step - loss: 0.6985 - acc: 0.4707 - val_loss: 0.6933 - val_acc: 0.5000\n",
      "Epoch 11/40\n",
      "25/25 [==============================] - 6s 244ms/step - loss: 0.6937 - acc: 0.5100 - val_loss: 0.6931 - val_acc: 0.5000\n",
      "Epoch 12/40\n",
      "25/25 [==============================] - 6s 247ms/step - loss: 0.6940 - acc: 0.4547 - val_loss: 0.6931 - val_acc: 0.5000\n",
      "Epoch 13/40\n",
      "25/25 [==============================] - 6s 243ms/step - loss: 0.6929 - acc: 0.5401 - val_loss: 0.6931 - val_acc: 0.5000\n",
      "Epoch 14/40\n",
      "25/25 [==============================] - 6s 244ms/step - loss: 0.6931 - acc: 0.5060 - val_loss: 0.6933 - val_acc: 0.5000\n",
      "Epoch 15/40\n",
      "25/25 [==============================] - 6s 238ms/step - loss: 0.6949 - acc: 0.4626 - val_loss: 0.6930 - val_acc: 0.5000\n",
      "Epoch 16/40\n",
      "25/25 [==============================] - 6s 241ms/step - loss: 0.6946 - acc: 0.4587 - val_loss: 0.6929 - val_acc: 0.5000\n",
      "Epoch 17/40\n",
      "25/25 [==============================] - 6s 244ms/step - loss: 0.6925 - acc: 0.5207 - val_loss: 0.6947 - val_acc: 0.5000\n",
      "Epoch 18/40\n",
      "25/25 [==============================] - 6s 238ms/step - loss: 0.6951 - acc: 0.4747 - val_loss: 0.6925 - val_acc: 0.5263\n",
      "Epoch 19/40\n",
      "25/25 [==============================] - 6s 242ms/step - loss: 0.6922 - acc: 0.5213 - val_loss: 0.6927 - val_acc: 0.5053\n",
      "Epoch 20/40\n",
      "25/25 [==============================] - 6s 255ms/step - loss: 0.6917 - acc: 0.5288 - val_loss: 0.6899 - val_acc: 0.5579\n",
      "Epoch 21/40\n",
      "25/25 [==============================] - 6s 249ms/step - loss: 0.6918 - acc: 0.5393 - val_loss: 0.6911 - val_acc: 0.5263\n",
      "Epoch 22/40\n",
      "25/25 [==============================] - 6s 247ms/step - loss: 0.6931 - acc: 0.5261 - val_loss: 0.6906 - val_acc: 0.4947\n",
      "Epoch 23/40\n",
      "25/25 [==============================] - 6s 249ms/step - loss: 0.6740 - acc: 0.5981 - val_loss: 0.6795 - val_acc: 0.6105\n",
      "Epoch 24/40\n",
      "25/25 [==============================] - 6s 251ms/step - loss: 0.6927 - acc: 0.5728 - val_loss: 0.6888 - val_acc: 0.5158\n",
      "Epoch 25/40\n",
      "25/25 [==============================] - 6s 249ms/step - loss: 0.6757 - acc: 0.5874 - val_loss: 0.6745 - val_acc: 0.6526\n",
      "Epoch 26/40\n",
      "25/25 [==============================] - 6s 250ms/step - loss: 0.6747 - acc: 0.5588 - val_loss: 0.6627 - val_acc: 0.6211\n",
      "Epoch 27/40\n",
      "25/25 [==============================] - 6s 245ms/step - loss: 0.6759 - acc: 0.5509 - val_loss: 0.6490 - val_acc: 0.6316\n",
      "Epoch 28/40\n",
      "25/25 [==============================] - 6s 250ms/step - loss: 0.6688 - acc: 0.5921 - val_loss: 0.6453 - val_acc: 0.6368\n",
      "Epoch 29/40\n",
      "25/25 [==============================] - 6s 258ms/step - loss: 0.6239 - acc: 0.6255 - val_loss: 0.6214 - val_acc: 0.6684\n",
      "Epoch 30/40\n",
      "25/25 [==============================] - 6s 245ms/step - loss: 0.6067 - acc: 0.6831 - val_loss: 0.6127 - val_acc: 0.6421\n",
      "Epoch 31/40\n",
      "25/25 [==============================] - 6s 257ms/step - loss: 0.5940 - acc: 0.6695 - val_loss: 0.5759 - val_acc: 0.6842\n",
      "Epoch 32/40\n",
      "25/25 [==============================] - 6s 251ms/step - loss: 0.5598 - acc: 0.7056 - val_loss: 0.5959 - val_acc: 0.6842\n",
      "Epoch 33/40\n",
      "25/25 [==============================] - 6s 252ms/step - loss: 0.5545 - acc: 0.6903 - val_loss: 0.5369 - val_acc: 0.6842\n",
      "Epoch 34/40\n",
      "25/25 [==============================] - 6s 246ms/step - loss: 0.5127 - acc: 0.7617 - val_loss: 0.4897 - val_acc: 0.7211\n",
      "Epoch 35/40\n",
      "25/25 [==============================] - 6s 247ms/step - loss: 0.4609 - acc: 0.7733 - val_loss: 0.5223 - val_acc: 0.7421\n",
      "Epoch 36/40\n",
      "25/25 [==============================] - 6s 248ms/step - loss: 0.5099 - acc: 0.7484 - val_loss: 0.4708 - val_acc: 0.7474\n",
      "Epoch 37/40\n",
      "25/25 [==============================] - 6s 236ms/step - loss: 0.4335 - acc: 0.7688 - val_loss: 0.5476 - val_acc: 0.7474\n",
      "Epoch 38/40\n",
      "25/25 [==============================] - 6s 253ms/step - loss: 0.4113 - acc: 0.7800 - val_loss: 0.4284 - val_acc: 0.7895\n",
      "Epoch 39/40\n",
      "25/25 [==============================] - 6s 244ms/step - loss: 0.3605 - acc: 0.8282 - val_loss: 0.4172 - val_acc: 0.8105\n",
      "Epoch 40/40\n",
      "25/25 [==============================] - 6s 250ms/step - loss: 0.3975 - acc: 0.8117 - val_loss: 0.3464 - val_acc: 0.8368\n"
     ]
    }
   ],
   "source": [
    "historyC = modelC.fit_generator(\n",
    "        train_generator,\n",
    "        steps_per_epoch=500 // batch_size,\n",
    "        epochs=40,\n",
    "        validation_data=val_generator,\n",
    "        validation_steps=200 // batch_size)"
   ]
  },
  {
   "cell_type": "code",
   "execution_count": 30,
   "metadata": {},
   "outputs": [
    {
     "data": {
      "image/png": "[encoded data removed]",
      "text/plain": [
       "<Figure size 432x288 with 1 Axes>"
      ]
     },
     "metadata": {},
     "output_type": "display_data"
    }
   ],
   "source": [
    "plt.plot(historyC.history['acc'])\n",
    "plt.plot(historyC.history['val_acc'])\n",
    "plt.title('Model accuracy')\n",
    "plt.ylabel('Accuracy')\n",
    "plt.xlabel('Epoch')\n",
    "plt.legend(['Train', 'Test'], loc='upper left')\n",
    "plt.show()"
   ]
  },
  {
   "cell_type": "code",
   "execution_count": 37,
   "metadata": {},
   "outputs": [
    {
     "data": {
      "image/png": "[encoded data removed]",
      "text/plain": [
       "<Figure size 432x288 with 1 Axes>"
      ]
     },
     "metadata": {},
     "output_type": "display_data"
    }
   ],
   "source": [
    "plt.plot(historyC.history['loss'])\n",
    "plt.plot(historyC.history['val_loss'])\n",
    "plt.title('Model Loss')\n",
    "plt.ylabel('Loss')\n",
    "plt.xlabel('Epoch')\n",
    "plt.legend(['Train', 'Test'], loc='upper left')\n",
    "plt.show()"
   ]
  },
  {
   "cell_type": "code",
   "execution_count": 32,
   "metadata": {},
   "outputs": [],
   "source": [
    "#Seems to take many epochs for learning to start\n",
    "#retrying with no rotation but more epcohs"
   ]
  },
  {
   "cell_type": "code",
   "execution_count": 35,
   "metadata": {},
   "outputs": [],
   "source": [
    "modelD = Sequential()\n",
    "modelD.add(Conv2D(32, (3, 3), input_shape=(128, 128,1)))\n",
    "modelD.add(Activation('relu'))\n",
    "modelD.add(MaxPooling2D(pool_size=(2, 2)))\n",
    "\n",
    "modelD.add(Conv2D(32, (3, 3)))\n",
    "modelD.add(Activation('relu'))\n",
    "modelD.add(MaxPooling2D(pool_size=(2, 2)))\n",
    "\n",
    "modelD.add(Conv2D(64, (3, 3)))\n",
    "modelD.add(Activation('relu'))\n",
    "modelD.add(MaxPooling2D(pool_size=(2, 2)))\n",
    "\n",
    "modelD.add(Conv2D(64, (3, 3)))\n",
    "modelD.add(Activation('relu'))\n",
    "modelD.add(MaxPooling2D(pool_size=(2, 2)))\n",
    "\n",
    "modelD.add(Conv2D(64, (3, 3)))\n",
    "modelD.add(Activation('relu'))\n",
    "modelD.add(MaxPooling2D(pool_size=(2, 2)))\n",
    "\n",
    "modelD.add(Flatten())  # this converts our 3D feature maps to 1D feature vectors\n",
    "modelD.add(Dense(64))\n",
    "modelD.add(Activation('relu'))\n",
    "modelD.add(Dropout(0.5))\n",
    "modelD.add(Dense(2))\n",
    "modelD.add(Activation('softmax'))\n",
    "\n",
    "modelD.compile(loss='categorical_crossentropy',\n",
    "              optimizer='rmsprop',\n",
    "              metrics=['accuracy'])"
   ]
  },
  {
   "cell_type": "code",
   "execution_count": 36,
   "metadata": {
    "scrolled": false
   },
   "outputs": [
    {
     "name": "stdout",
     "output_type": "stream",
     "text": [
      "Epoch 1/60\n",
      "25/25 [==============================] - 6s 255ms/step - loss: 0.7088 - acc: 0.4960 - val_loss: 0.6941 - val_acc: 0.5000\n",
      "Epoch 2/60\n",
      "25/25 [==============================] - 6s 232ms/step - loss: 0.6915 - acc: 0.5221 - val_loss: 0.6929 - val_acc: 0.5000\n",
      "Epoch 3/60\n",
      "25/25 [==============================] - 6s 238ms/step - loss: 0.6962 - acc: 0.4747 - val_loss: 0.6935 - val_acc: 0.5000\n",
      "Epoch 4/60\n",
      "25/25 [==============================] - 6s 249ms/step - loss: 0.6948 - acc: 0.4840 - val_loss: 0.6929 - val_acc: 0.5526\n",
      "Epoch 5/60\n",
      "25/25 [==============================] - 6s 243ms/step - loss: 0.6947 - acc: 0.4680 - val_loss: 0.6932 - val_acc: 0.5000\n",
      "Epoch 6/60\n",
      "25/25 [==============================] - 7s 261ms/step - loss: 0.6931 - acc: 0.5133 - val_loss: 0.6935 - val_acc: 0.5000\n",
      "Epoch 7/60\n",
      "25/25 [==============================] - 6s 253ms/step - loss: 0.6968 - acc: 0.4739 - val_loss: 0.6934 - val_acc: 0.5000\n",
      "Epoch 8/60\n",
      "25/25 [==============================] - 6s 257ms/step - loss: 0.6943 - acc: 0.4973 - val_loss: 0.6929 - val_acc: 0.5000\n",
      "Epoch 9/60\n",
      "25/25 [==============================] - 6s 245ms/step - loss: 0.6941 - acc: 0.5040 - val_loss: 0.6931 - val_acc: 0.5000\n",
      "Epoch 10/60\n",
      "25/25 [==============================] - 7s 261ms/step - loss: 0.6946 - acc: 0.5333 - val_loss: 0.6926 - val_acc: 0.5000\n",
      "Epoch 11/60\n",
      "25/25 [==============================] - 6s 253ms/step - loss: 0.6946 - acc: 0.5140 - val_loss: 0.6923 - val_acc: 0.5474\n",
      "Epoch 12/60\n",
      "25/25 [==============================] - 6s 235ms/step - loss: 0.6929 - acc: 0.5361 - val_loss: 0.6895 - val_acc: 0.5368\n",
      "Epoch 13/60\n",
      "25/25 [==============================] - 6s 243ms/step - loss: 0.6935 - acc: 0.4933 - val_loss: 0.6917 - val_acc: 0.5000\n",
      "Epoch 14/60\n",
      "25/25 [==============================] - 6s 240ms/step - loss: 0.6932 - acc: 0.5080 - val_loss: 0.6875 - val_acc: 0.5632\n",
      "Epoch 15/60\n",
      "25/25 [==============================] - 6s 242ms/step - loss: 0.6955 - acc: 0.5494 - val_loss: 0.6892 - val_acc: 0.5368\n",
      "Epoch 16/60\n",
      "25/25 [==============================] - 6s 254ms/step - loss: 0.6902 - acc: 0.5393 - val_loss: 0.6905 - val_acc: 0.4895\n",
      "Epoch 17/60\n",
      "25/25 [==============================] - 6s 244ms/step - loss: 0.6958 - acc: 0.4967 - val_loss: 0.6883 - val_acc: 0.5474\n",
      "Epoch 18/60\n",
      "25/25 [==============================] - 6s 255ms/step - loss: 0.6887 - acc: 0.5420 - val_loss: 0.6781 - val_acc: 0.5895\n",
      "Epoch 19/60\n",
      "25/25 [==============================] - 6s 233ms/step - loss: 0.6898 - acc: 0.5775 - val_loss: 0.6776 - val_acc: 0.5789\n",
      "Epoch 20/60\n",
      "25/25 [==============================] - 6s 250ms/step - loss: 0.6941 - acc: 0.5313 - val_loss: 0.6817 - val_acc: 0.5842\n",
      "Epoch 21/60\n",
      "25/25 [==============================] - 6s 236ms/step - loss: 0.6926 - acc: 0.5160 - val_loss: 0.6848 - val_acc: 0.5526\n",
      "Epoch 22/60\n",
      "25/25 [==============================] - 6s 242ms/step - loss: 0.6754 - acc: 0.5794 - val_loss: 0.6665 - val_acc: 0.5895\n",
      "Epoch 23/60\n",
      "25/25 [==============================] - 6s 231ms/step - loss: 0.6722 - acc: 0.5722 - val_loss: 0.6728 - val_acc: 0.5737\n",
      "Epoch 24/60\n",
      "25/25 [==============================] - 6s 245ms/step - loss: 0.6717 - acc: 0.5941 - val_loss: 0.6920 - val_acc: 0.5737\n",
      "Epoch 25/60\n",
      "25/25 [==============================] - 6s 245ms/step - loss: 0.6642 - acc: 0.6094 - val_loss: 0.6400 - val_acc: 0.6526\n",
      "Epoch 26/60\n",
      "25/25 [==============================] - 6s 244ms/step - loss: 0.6380 - acc: 0.6763 - val_loss: 0.6348 - val_acc: 0.6421\n",
      "Epoch 27/60\n",
      "25/25 [==============================] - 6s 242ms/step - loss: 0.6418 - acc: 0.6023 - val_loss: 0.6301 - val_acc: 0.6789\n",
      "Epoch 28/60\n",
      "25/25 [==============================] - 6s 251ms/step - loss: 0.6000 - acc: 0.6675 - val_loss: 0.6365 - val_acc: 0.6526\n",
      "Epoch 29/60\n",
      "25/25 [==============================] - 6s 246ms/step - loss: 0.5755 - acc: 0.6851 - val_loss: 0.5863 - val_acc: 0.6842\n",
      "Epoch 30/60\n",
      "25/25 [==============================] - 7s 267ms/step - loss: 0.5705 - acc: 0.6720 - val_loss: 0.5985 - val_acc: 0.6632\n",
      "Epoch 31/60\n",
      "25/25 [==============================] - 6s 248ms/step - loss: 0.5357 - acc: 0.7076 - val_loss: 0.5757 - val_acc: 0.6947\n",
      "Epoch 32/60\n",
      "25/25 [==============================] - 6s 256ms/step - loss: 0.5203 - acc: 0.7412 - val_loss: 0.5614 - val_acc: 0.6947\n",
      "Epoch 33/60\n",
      "25/25 [==============================] - 8s 302ms/step - loss: 0.5262 - acc: 0.7203 - val_loss: 0.5408 - val_acc: 0.7316\n",
      "Epoch 34/60\n",
      "25/25 [==============================] - 7s 269ms/step - loss: 0.4878 - acc: 0.7403 - val_loss: 0.5817 - val_acc: 0.7211\n",
      "Epoch 35/60\n",
      "25/25 [==============================] - 6s 255ms/step - loss: 0.4573 - acc: 0.7897 - val_loss: 0.4464 - val_acc: 0.7474\n",
      "Epoch 36/60\n",
      "25/25 [==============================] - 6s 237ms/step - loss: 0.4878 - acc: 0.7728 - val_loss: 0.4790 - val_acc: 0.7684\n",
      "Epoch 37/60\n",
      "25/25 [==============================] - 6s 242ms/step - loss: 0.4338 - acc: 0.7844 - val_loss: 0.5229 - val_acc: 0.7053\n",
      "Epoch 38/60\n",
      "25/25 [==============================] - 7s 292ms/step - loss: 0.4561 - acc: 0.7724 - val_loss: 0.3923 - val_acc: 0.8053\n",
      "Epoch 39/60\n",
      "25/25 [==============================] - 6s 257ms/step - loss: 0.3905 - acc: 0.8302 - val_loss: 0.7468 - val_acc: 0.6526\n",
      "Epoch 40/60\n",
      "25/25 [==============================] - 6s 258ms/step - loss: 0.3910 - acc: 0.8177 - val_loss: 0.5543 - val_acc: 0.7474\n",
      "Epoch 41/60\n",
      "25/25 [==============================] - 6s 260ms/step - loss: 0.3570 - acc: 0.8518 - val_loss: 0.3493 - val_acc: 0.8105\n",
      "Epoch 42/60\n",
      "25/25 [==============================] - 7s 283ms/step - loss: 0.3751 - acc: 0.8258 - val_loss: 0.3410 - val_acc: 0.8316\n",
      "Epoch 43/60\n",
      "25/25 [==============================] - 7s 268ms/step - loss: 0.3048 - acc: 0.8736 - val_loss: 0.3185 - val_acc: 0.8474\n",
      "Epoch 44/60\n",
      "25/25 [==============================] - 7s 275ms/step - loss: 0.3816 - acc: 0.8185 - val_loss: 0.3872 - val_acc: 0.8421\n",
      "Epoch 45/60\n",
      "25/25 [==============================] - 7s 274ms/step - loss: 0.2833 - acc: 0.8917 - val_loss: 0.3466 - val_acc: 0.8368\n",
      "Epoch 46/60\n",
      "25/25 [==============================] - 7s 283ms/step - loss: 0.2801 - acc: 0.8618 - val_loss: 0.4140 - val_acc: 0.8368\n",
      "Epoch 47/60\n",
      "25/25 [==============================] - 7s 285ms/step - loss: 0.2880 - acc: 0.8820 - val_loss: 0.3033 - val_acc: 0.8842\n",
      "Epoch 48/60\n",
      "25/25 [==============================] - 7s 288ms/step - loss: 0.2664 - acc: 0.8937 - val_loss: 0.3549 - val_acc: 0.8737\n",
      "Epoch 49/60\n",
      "25/25 [==============================] - 7s 278ms/step - loss: 0.2478 - acc: 0.8997 - val_loss: 0.3808 - val_acc: 0.8263\n",
      "Epoch 50/60\n",
      "25/25 [==============================] - 7s 283ms/step - loss: 0.2961 - acc: 0.8820 - val_loss: 0.3413 - val_acc: 0.8684\n",
      "Epoch 51/60\n",
      "25/25 [==============================] - 7s 280ms/step - loss: 0.2440 - acc: 0.9239 - val_loss: 0.2770 - val_acc: 0.9053\n",
      "Epoch 52/60\n",
      "25/25 [==============================] - 7s 274ms/step - loss: 0.2495 - acc: 0.8704 - val_loss: 0.3204 - val_acc: 0.8579\n",
      "Epoch 53/60\n",
      "25/25 [==============================] - 7s 281ms/step - loss: 0.2603 - acc: 0.9006 - val_loss: 0.2698 - val_acc: 0.9053\n",
      "Epoch 54/60\n",
      "25/25 [==============================] - 7s 273ms/step - loss: 0.1797 - acc: 0.9298 - val_loss: 0.3438 - val_acc: 0.8789\n",
      "Epoch 55/60\n",
      "25/25 [==============================] - 7s 283ms/step - loss: 0.1788 - acc: 0.9379 - val_loss: 0.3353 - val_acc: 0.8789\n",
      "Epoch 56/60\n",
      "25/25 [==============================] - 7s 284ms/step - loss: 0.1693 - acc: 0.9279 - val_loss: 0.2351 - val_acc: 0.9105\n",
      "Epoch 57/60\n",
      "25/25 [==============================] - 7s 281ms/step - loss: 0.1702 - acc: 0.9539 - val_loss: 0.2937 - val_acc: 0.8895\n",
      "Epoch 58/60\n",
      "25/25 [==============================] - 7s 274ms/step - loss: 0.1965 - acc: 0.9259 - val_loss: 0.2657 - val_acc: 0.8947\n",
      "Epoch 59/60\n",
      "25/25 [==============================] - 7s 278ms/step - loss: 0.2184 - acc: 0.9259 - val_loss: 0.3096 - val_acc: 0.9158\n",
      "Epoch 60/60\n",
      "25/25 [==============================] - 7s 281ms/step - loss: 0.1316 - acc: 0.9559 - val_loss: 0.3278 - val_acc: 0.9158\n"
     ]
    }
   ],
   "source": [
    "historyD = modelD.fit_generator(\n",
    "        train_generator,\n",
    "        steps_per_epoch=500 // batch_size,\n",
    "        epochs=60,\n",
    "        validation_data=val_generator,\n",
    "        validation_steps=200 // batch_size)"
   ]
  },
  {
   "cell_type": "markdown",
   "metadata": {},
   "source": [
    "# Adding Garbage to Make Weaker Labels"
   ]
  },
  {
   "cell_type": "code",
   "execution_count": 9,
   "metadata": {},
   "outputs": [],
   "source": [
    "garbage_imgs = np.load('20200514_garbage__Chiral_D_Large_TIFF_Cropped_four_rows_sel_NPs_rotated.npy')"
   ]
  },
  {
   "cell_type": "code",
   "execution_count": 10,
   "metadata": {},
   "outputs": [
    {
     "data": {
      "text/plain": [
       "(160, 128, 128)"
      ]
     },
     "execution_count": 10,
     "metadata": {},
     "output_type": "execute_result"
    }
   ],
   "source": [
    "garbage_imgs.shape"
   ]
  },
  {
   "cell_type": "code",
   "execution_count": 11,
   "metadata": {},
   "outputs": [
    {
     "data": {
      "text/plain": [
       "38.2"
      ]
     },
     "execution_count": 11,
     "metadata": {},
     "output_type": "execute_result"
    }
   ],
   "source": [
    "X_train.shape[0]*0.2*0.5"
   ]
  },
  {
   "cell_type": "code",
   "execution_count": 12,
   "metadata": {},
   "outputs": [
    {
     "data": {
      "text/plain": [
       "19.0"
      ]
     },
     "execution_count": 12,
     "metadata": {},
     "output_type": "execute_result"
    }
   ],
   "source": [
    "X_test.shape[0]*0.2*0.5"
   ]
  },
  {
   "cell_type": "code",
   "execution_count": 13,
   "metadata": {},
   "outputs": [],
   "source": [
    "garbage_right_train = garbage_imgs[:38]\n",
    "garbage_right_labels_train = [[1,0] for i in np.arange(0,len(garbage_right_train))]\n",
    "garbage_left_train = []\n",
    "for img in garbage_right_train:\n",
    "    garbage_left_train.append(np.fliplr(img))\n",
    "garbage_left_labels_train = [[0,1] for i in np.arange(0,len(garbage_left_train))]"
   ]
  },
  {
   "cell_type": "code",
   "execution_count": 14,
   "metadata": {},
   "outputs": [],
   "source": [
    "garbage_right_test = garbage_imgs[38:38+19]\n",
    "garbage_right_labels_test = [[1,0] for i in np.arange(0,len(garbage_right_test))]\n",
    "garbage_left_test = []\n",
    "for img in garbage_right_test:\n",
    "    garbage_left_test.append(np.fliplr(img))\n",
    "garbage_left_labels_test = [[0,1] for i in np.arange(0,len(garbage_left_test))]"
   ]
  },
  {
   "cell_type": "code",
   "execution_count": 15,
   "metadata": {},
   "outputs": [],
   "source": [
    "X_train = np.concatenate((X_train,garbage_left_train,garbage_right_train),axis =0)\n",
    "Y_train = np.concatenate((Y_train,garbage_left_labels_train,garbage_right_labels_train),axis = 0)\n",
    "X_test = np.concatenate((X_test,garbage_left_test,garbage_right_test),axis = 0)\n",
    "Y_test = np.concatenate((Y_test,garbage_left_labels_test,garbage_right_labels_test),axis = 0)"
   ]
  },
  {
   "cell_type": "code",
   "execution_count": 16,
   "metadata": {},
   "outputs": [],
   "source": [
    "X_train_norm = X_train/X_train.max()\n",
    "X_test_norm = X_test/X_test.max()\n",
    "X_train_norm = np.expand_dims(X_train_norm,axis=3)\n",
    "X_test_norm = np.expand_dims(X_test_norm,axis=3)"
   ]
  },
  {
   "cell_type": "code",
   "execution_count": 17,
   "metadata": {},
   "outputs": [],
   "source": [
    "X_train_shuff, Y_train_shuff = utils.shuffle(X_train_norm, Y_train,random_state=0)\n",
    "X_test_shuff, Y_test_shuff = utils.shuffle(X_test_norm, Y_test,random_state=0)"
   ]
  },
  {
   "cell_type": "code",
   "execution_count": 18,
   "metadata": {},
   "outputs": [],
   "source": [
    "modelE = keras.models.Sequential()\n",
    "modelE.add(Conv2D(32, (3, 3), input_shape=(128, 128,1)))\n",
    "modelE.add(Activation('relu'))\n",
    "modelE.add(MaxPooling2D(pool_size=(2, 2)))\n",
    "\n",
    "modelE.add(Conv2D(32, (3, 3)))\n",
    "modelE.add(Activation('relu'))\n",
    "modelE.add(MaxPooling2D(pool_size=(2, 2)))\n",
    "\n",
    "modelE.add(Conv2D(64, (3, 3)))\n",
    "modelE.add(Activation('relu'))\n",
    "modelE.add(MaxPooling2D(pool_size=(2, 2)))\n",
    "\n",
    "modelE.add(Conv2D(64, (3, 3)))\n",
    "modelE.add(Activation('relu'))\n",
    "modelE.add(MaxPooling2D(pool_size=(2, 2)))\n",
    "\n",
    "modelE.add(Conv2D(64, (3, 3)))\n",
    "modelE.add(Activation('relu'))\n",
    "modelE.add(MaxPooling2D(pool_size=(2, 2)))\n",
    "\n",
    "modelE.add(Flatten())  # this converts our 3D feature maps to 1D feature vectors\n",
    "modelE.add(Dense(64))\n",
    "modelE.add(Activation('relu'))\n",
    "modelE.add(Dropout(0.5))\n",
    "modelE.add(Dense(2))\n",
    "modelE.add(Activation('softmax'))\n",
    "\n",
    "modelE.compile(loss='categorical_crossentropy',\n",
    "              optimizer='rmsprop',\n",
    "              metrics=['accuracy'])"
   ]
  },
  {
   "cell_type": "code",
   "execution_count": 20,
   "metadata": {},
   "outputs": [],
   "source": [
    "batch_size = 20\n",
    "seed = 42\n",
    "train_datagen = ImageDataGenerator(\n",
    "        shear_range=0.2,\n",
    "        zoom_range=0.2,\n",
    "        horizontal_flip=False,\n",
    "        vertical_flip = False)\n",
    "\n",
    "test_datagen = ImageDataGenerator(rescale=1.)\n",
    "\n",
    "train_generator = train_datagen.flow(X_train_shuff, y=Y_train_shuff, batch_size=batch_size,seed=seed)\n",
    "val_generator = test_datagen.flow(X_test_shuff,y=Y_test_shuff,batch_size=batch_size,seed=seed)"
   ]
  },
  {
   "cell_type": "code",
   "execution_count": 21,
   "metadata": {
    "scrolled": false
   },
   "outputs": [
    {
     "name": "stdout",
     "output_type": "stream",
     "text": [
      "WARNING:tensorflow:From <ipython-input-21-a4fbb7db3a04>:6: Model.fit_generator (from tensorflow.python.keras.engine.training) is deprecated and will be removed in a future version.\n",
      "Instructions for updating:\n",
      "Please use Model.fit, which supports generators.\n",
      "Epoch 1/60\n",
      "25/25 [==============================] - 4s 150ms/step - loss: 0.6972 - accuracy: 0.4920 - val_loss: 0.6926 - val_accuracy: 0.5150\n",
      "Epoch 2/60\n",
      "25/25 [==============================] - 4s 143ms/step - loss: 0.6954 - accuracy: 0.5080 - val_loss: 0.6940 - val_accuracy: 0.4734\n",
      "Epoch 3/60\n",
      "25/25 [==============================] - 4s 144ms/step - loss: 0.6960 - accuracy: 0.5120 - val_loss: 0.6930 - val_accuracy: 0.5053\n",
      "Epoch 4/60\n",
      "25/25 [==============================] - 4s 141ms/step - loss: 0.6931 - accuracy: 0.5080 - val_loss: 0.7053 - val_accuracy: 0.4574\n",
      "Epoch 5/60\n",
      "25/25 [==============================] - 4s 146ms/step - loss: 0.6962 - accuracy: 0.4839 - val_loss: 0.6942 - val_accuracy: 0.4574\n",
      "Epoch 6/60\n",
      "25/25 [==============================] - 4s 141ms/step - loss: 0.6935 - accuracy: 0.5060 - val_loss: 0.6910 - val_accuracy: 0.5426\n",
      "Epoch 7/60\n",
      "25/25 [==============================] - 4s 144ms/step - loss: 0.6939 - accuracy: 0.5301 - val_loss: 0.6867 - val_accuracy: 0.5319\n",
      "Epoch 8/60\n",
      "25/25 [==============================] - 4s 142ms/step - loss: 0.6890 - accuracy: 0.5602 - val_loss: 0.6939 - val_accuracy: 0.5053\n",
      "Epoch 9/60\n",
      "25/25 [==============================] - 4s 143ms/step - loss: 0.6888 - accuracy: 0.5161 - val_loss: 0.6847 - val_accuracy: 0.5798\n",
      "Epoch 10/60\n",
      "25/25 [==============================] - 4s 142ms/step - loss: 0.6952 - accuracy: 0.5181 - val_loss: 0.6794 - val_accuracy: 0.5904\n",
      "Epoch 11/60\n",
      "25/25 [==============================] - 4s 145ms/step - loss: 0.6880 - accuracy: 0.5502 - val_loss: 0.6891 - val_accuracy: 0.5532\n",
      "Epoch 12/60\n",
      "25/25 [==============================] - 4s 145ms/step - loss: 0.6804 - accuracy: 0.5847 - val_loss: 0.6744 - val_accuracy: 0.6150\n",
      "Epoch 13/60\n",
      "25/25 [==============================] - 4s 142ms/step - loss: 0.6815 - accuracy: 0.5582 - val_loss: 0.6743 - val_accuracy: 0.5850\n",
      "Epoch 14/60\n",
      "25/25 [==============================] - 4s 142ms/step - loss: 0.6817 - accuracy: 0.5422 - val_loss: 0.6731 - val_accuracy: 0.5638\n",
      "Epoch 15/60\n",
      "25/25 [==============================] - 4s 141ms/step - loss: 0.6797 - accuracy: 0.5522 - val_loss: 0.6719 - val_accuracy: 0.6170\n",
      "Epoch 16/60\n",
      "25/25 [==============================] - 4s 143ms/step - loss: 0.6797 - accuracy: 0.5863 - val_loss: 0.6452 - val_accuracy: 0.6117\n",
      "Epoch 17/60\n",
      "25/25 [==============================] - 4s 142ms/step - loss: 0.6767 - accuracy: 0.5622 - val_loss: 0.6595 - val_accuracy: 0.6383\n",
      "Epoch 18/60\n",
      "25/25 [==============================] - 4s 142ms/step - loss: 0.6715 - accuracy: 0.5823 - val_loss: 0.6407 - val_accuracy: 0.6649\n",
      "Epoch 19/60\n",
      "25/25 [==============================] - 4s 143ms/step - loss: 0.6519 - accuracy: 0.6124 - val_loss: 0.6546 - val_accuracy: 0.6383\n",
      "Epoch 20/60\n",
      "25/25 [==============================] - 4s 142ms/step - loss: 0.6101 - accuracy: 0.6647 - val_loss: 0.6449 - val_accuracy: 0.6543\n",
      "Epoch 21/60\n",
      "25/25 [==============================] - 4s 145ms/step - loss: 0.6263 - accuracy: 0.6747 - val_loss: 0.6513 - val_accuracy: 0.6223\n",
      "Epoch 22/60\n",
      "25/25 [==============================] - 4s 142ms/step - loss: 0.5915 - accuracy: 0.6747 - val_loss: 0.5974 - val_accuracy: 0.6968\n",
      "Epoch 23/60\n",
      "25/25 [==============================] - 4s 145ms/step - loss: 0.5817 - accuracy: 0.7077 - val_loss: 0.6159 - val_accuracy: 0.6915\n",
      "Epoch 24/60\n",
      "25/25 [==============================] - 4s 143ms/step - loss: 0.5678 - accuracy: 0.7169 - val_loss: 0.5942 - val_accuracy: 0.6800\n",
      "Epoch 25/60\n",
      "25/25 [==============================] - 4s 145ms/step - loss: 0.5348 - accuracy: 0.7349 - val_loss: 0.5864 - val_accuracy: 0.7250\n",
      "Epoch 26/60\n",
      "25/25 [==============================] - 4s 142ms/step - loss: 0.4666 - accuracy: 0.7751 - val_loss: 0.7518 - val_accuracy: 0.6862\n",
      "Epoch 27/60\n",
      "25/25 [==============================] - 4s 144ms/step - loss: 0.4447 - accuracy: 0.7992 - val_loss: 0.5413 - val_accuracy: 0.7287\n",
      "Epoch 28/60\n",
      "25/25 [==============================] - 4s 143ms/step - loss: 0.4469 - accuracy: 0.7912 - val_loss: 0.5046 - val_accuracy: 0.7819\n",
      "Epoch 29/60\n",
      "25/25 [==============================] - 4s 142ms/step - loss: 0.4468 - accuracy: 0.7892 - val_loss: 0.5196 - val_accuracy: 0.7713\n",
      "Epoch 30/60\n",
      "25/25 [==============================] - 4s 145ms/step - loss: 0.3712 - accuracy: 0.8434 - val_loss: 0.3911 - val_accuracy: 0.8032\n",
      "Epoch 31/60\n",
      "25/25 [==============================] - 4s 141ms/step - loss: 0.3468 - accuracy: 0.8655 - val_loss: 0.5831 - val_accuracy: 0.7819\n",
      "Epoch 32/60\n",
      "25/25 [==============================] - 4s 146ms/step - loss: 0.3499 - accuracy: 0.8534 - val_loss: 0.5089 - val_accuracy: 0.7766\n",
      "Epoch 33/60\n",
      "25/25 [==============================] - 4s 145ms/step - loss: 0.3425 - accuracy: 0.8574 - val_loss: 0.4013 - val_accuracy: 0.8085\n",
      "Epoch 34/60\n",
      "25/25 [==============================] - 4s 146ms/step - loss: 0.3034 - accuracy: 0.8916 - val_loss: 0.4424 - val_accuracy: 0.7713\n",
      "Epoch 35/60\n",
      "25/25 [==============================] - 4s 145ms/step - loss: 0.2616 - accuracy: 0.9093 - val_loss: 0.5621 - val_accuracy: 0.8085\n",
      "Epoch 36/60\n",
      "25/25 [==============================] - 4s 141ms/step - loss: 0.2370 - accuracy: 0.9157 - val_loss: 0.6602 - val_accuracy: 0.8000\n",
      "Epoch 37/60\n",
      "25/25 [==============================] - 4s 144ms/step - loss: 0.2393 - accuracy: 0.9056 - val_loss: 0.4152 - val_accuracy: 0.8400\n",
      "Epoch 38/60\n",
      "25/25 [==============================] - 4s 141ms/step - loss: 0.2436 - accuracy: 0.8976 - val_loss: 0.4100 - val_accuracy: 0.8351\n",
      "Epoch 39/60\n",
      "25/25 [==============================] - 4s 148ms/step - loss: 0.2582 - accuracy: 0.9036 - val_loss: 0.3938 - val_accuracy: 0.8511\n",
      "Epoch 40/60\n",
      "25/25 [==============================] - 4s 142ms/step - loss: 0.1983 - accuracy: 0.9337 - val_loss: 0.3791 - val_accuracy: 0.8883\n",
      "Epoch 41/60\n",
      "25/25 [==============================] - 4s 147ms/step - loss: 0.1802 - accuracy: 0.9498 - val_loss: 0.5164 - val_accuracy: 0.8085\n",
      "Epoch 42/60\n",
      "25/25 [==============================] - 4s 143ms/step - loss: 0.1721 - accuracy: 0.9297 - val_loss: 0.5000 - val_accuracy: 0.8245\n",
      "Epoch 43/60\n",
      "25/25 [==============================] - 4s 143ms/step - loss: 0.1819 - accuracy: 0.9337 - val_loss: 0.5183 - val_accuracy: 0.7766\n",
      "Epoch 44/60\n",
      "25/25 [==============================] - 4s 143ms/step - loss: 0.1952 - accuracy: 0.9337 - val_loss: 0.3421 - val_accuracy: 0.8404\n",
      "Epoch 45/60\n",
      "25/25 [==============================] - 4s 143ms/step - loss: 0.1557 - accuracy: 0.9378 - val_loss: 0.5220 - val_accuracy: 0.8138\n",
      "Epoch 46/60\n",
      "25/25 [==============================] - 4s 143ms/step - loss: 0.1444 - accuracy: 0.9435 - val_loss: 0.4136 - val_accuracy: 0.8617\n",
      "Epoch 47/60\n",
      "25/25 [==============================] - 4s 142ms/step - loss: 0.1701 - accuracy: 0.9157 - val_loss: 0.4503 - val_accuracy: 0.8670\n",
      "Epoch 48/60\n",
      "25/25 [==============================] - 4s 146ms/step - loss: 0.1187 - accuracy: 0.9558 - val_loss: 0.4721 - val_accuracy: 0.8400\n",
      "Epoch 49/60\n",
      "25/25 [==============================] - 4s 145ms/step - loss: 0.1347 - accuracy: 0.9558 - val_loss: 0.5039 - val_accuracy: 0.8350\n",
      "Epoch 50/60\n",
      "25/25 [==============================] - 4s 143ms/step - loss: 0.1261 - accuracy: 0.9438 - val_loss: 0.4333 - val_accuracy: 0.8830\n",
      "Epoch 51/60\n",
      "25/25 [==============================] - 4s 145ms/step - loss: 0.1603 - accuracy: 0.9538 - val_loss: 0.4237 - val_accuracy: 0.8723\n",
      "Epoch 52/60\n",
      "25/25 [==============================] - 4s 142ms/step - loss: 0.1172 - accuracy: 0.9639 - val_loss: 0.5119 - val_accuracy: 0.8032\n",
      "Epoch 53/60\n",
      "25/25 [==============================] - 4s 146ms/step - loss: 0.0715 - accuracy: 0.9859 - val_loss: 0.5410 - val_accuracy: 0.8404\n",
      "Epoch 54/60\n",
      "25/25 [==============================] - 4s 142ms/step - loss: 0.0877 - accuracy: 0.9639 - val_loss: 0.5382 - val_accuracy: 0.8777\n",
      "Epoch 55/60\n",
      "25/25 [==============================] - 4s 144ms/step - loss: 0.1232 - accuracy: 0.9558 - val_loss: 0.4172 - val_accuracy: 0.8830\n",
      "Epoch 56/60\n"
     ]
    },
    {
     "name": "stdout",
     "output_type": "stream",
     "text": [
      "25/25 [==============================] - 4s 143ms/step - loss: 0.1062 - accuracy: 0.9518 - val_loss: 0.4058 - val_accuracy: 0.8670\n",
      "Epoch 57/60\n",
      "25/25 [==============================] - 4s 141ms/step - loss: 0.0864 - accuracy: 0.9659 - val_loss: 0.4758 - val_accuracy: 0.8511\n",
      "Epoch 58/60\n",
      "25/25 [==============================] - 4s 157ms/step - loss: 0.1045 - accuracy: 0.9637 - val_loss: 0.4226 - val_accuracy: 0.8989\n",
      "Epoch 59/60\n",
      "25/25 [==============================] - 4s 141ms/step - loss: 0.0629 - accuracy: 0.9759 - val_loss: 0.5442 - val_accuracy: 0.8936\n",
      "Epoch 60/60\n",
      "25/25 [==============================] - 4s 145ms/step - loss: 0.0793 - accuracy: 0.9759 - val_loss: 0.4113 - val_accuracy: 0.8750\n"
     ]
    }
   ],
   "source": [
    "historyE = modelE.fit_generator(\n",
    "        train_generator,\n",
    "        steps_per_epoch=500 // batch_size,\n",
    "        epochs=60,\n",
    "        validation_data=val_generator,\n",
    "        validation_steps=200 // batch_size)"
   ]
  },
  {
   "cell_type": "code",
   "execution_count": 17,
   "metadata": {},
   "outputs": [
    {
     "data": {
      "text/plain": [
       "'2.2.0'"
      ]
     },
     "execution_count": 17,
     "metadata": {},
     "output_type": "execute_result"
    }
   ],
   "source": [
    "tf.__version__"
   ]
  },
  {
   "cell_type": "code",
   "execution_count": 18,
   "metadata": {},
   "outputs": [
    {
     "data": {
      "text/plain": [
       "'2.3.0-tf'"
      ]
     },
     "execution_count": 18,
     "metadata": {},
     "output_type": "execute_result"
    }
   ],
   "source": [
    "keras.__version__"
   ]
  },
  {
   "cell_type": "code",
   "execution_count": 22,
   "metadata": {},
   "outputs": [],
   "source": [
    "modelE.save_weights('chirality_classification_20pwronglabels_weights_20200712.h5')"
   ]
  },
  {
   "cell_type": "code",
   "execution_count": null,
   "metadata": {},
   "outputs": [],
   "source": [
    "historyE.history[]"
   ]
  },
  {
   "cell_type": "code",
   "execution_count": 26,
   "metadata": {},
   "outputs": [
    {
     "data": {
      "image/png": "[encoded data removed]",
      "text/plain": [
       "<Figure size 432x288 with 1 Axes>"
      ]
     },
     "metadata": {},
     "output_type": "display_data"
    }
   ],
   "source": [
    "plt.plot(historyE.history['accuracy'])\n",
    "plt.plot(historyE.history['val_accuracy'])\n",
    "plt.title('Model accuracy')\n",
    "plt.ylabel('Accuracy')\n",
    "plt.xlabel('Epoch')\n",
    "plt.legend(['Train', 'Test'], loc='upper left')\n",
    "plt.show()"
   ]
  },
  {
   "cell_type": "code",
   "execution_count": 28,
   "metadata": {},
   "outputs": [
    {
     "data": {
      "image/png": "[encoded data removed]",
      "text/plain": [
       "<Figure size 432x288 with 1 Axes>"
      ]
     },
     "metadata": {},
     "output_type": "display_data"
    }
   ],
   "source": [
    "plt.plot(historyE.history['loss'])\n",
    "plt.plot(historyE.history['val_loss'])\n",
    "plt.title('Model Loss')\n",
    "plt.ylabel('Loss')\n",
    "plt.xlabel('Epoch')\n",
    "plt.legend(['Train', 'Test'], loc='upper left')\n",
    "plt.show()"
   ]
  },
  {
   "cell_type": "code",
   "execution_count": null,
   "metadata": {},
   "outputs": [],
   "source": []
  }
 ],
 "metadata": {
  "kernelspec": {
   "display_name": "Python (fouriernet)",
   "language": "python",
   "name": "fouriernet"
  },
  "language_info": {
   "codemirror_mode": {
    "name": "ipython",
    "version": 3
   },
   "file_extension": ".py",
   "mimetype": "text/x-python",
   "name": "python",
   "nbconvert_exporter": "python",
   "pygments_lexer": "ipython3",
   "version": "3.6.10"
  }
 },
 "nbformat": 4,
 "nbformat_minor": 2
}
