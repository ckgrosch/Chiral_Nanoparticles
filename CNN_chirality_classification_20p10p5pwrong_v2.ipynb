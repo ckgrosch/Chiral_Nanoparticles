{
 "cells": [
  {
   "cell_type": "code",
   "execution_count": 1,
   "metadata": {},
   "outputs": [
    {
     "name": "stderr",
     "output_type": "stream",
     "text": [
      "Using TensorFlow backend.\n"
     ]
    }
   ],
   "source": [
    "import tensorflow as tf\n",
    "from tensorflow import keras\n",
    "from tensorflow.keras.layers import Conv2D, MaxPooling2D, Activation, Dropout, Flatten, Dense\n",
    "from tensorflow.keras.models import Sequential, load_model\n",
    "import numpy as np\n",
    "import matplotlib.pyplot as plt\n",
    "from keras.preprocessing.image import ImageDataGenerator\n",
    "# from keras.utils import to_categorical\n",
    "from sklearn import metrics\n",
    "import h5py\n",
    "from sklearn import utils\n",
    "from tensorflow.keras.backend import clear_session\n",
    "from tensorflow.keras.callbacks import EarlyStopping, ModelCheckpoint"
   ]
  },
  {
   "cell_type": "code",
   "execution_count": 2,
   "metadata": {},
   "outputs": [],
   "source": [
    "right_images = np.load('20200514_right__Chiral_D_Large_TIFF_Cropped_four_rows_sel_NPs_rotated.npy')\n",
    "right_labels = [[1,0] for i in np.arange(0,len(right_images))]\n",
    "left_images = np.load('20200514_left__Chiral_D_Large_TIFF_Cropped_four_rows_sel_NPs_rotated.npy')\n",
    "left_labels = [[0,1] for i in np.arange(0,len(left_images))]"
   ]
  },
  {
   "cell_type": "code",
   "execution_count": 3,
   "metadata": {},
   "outputs": [],
   "source": [
    "split = int(len(right_labels)*0.2)\n",
    "\n",
    "new_left_images = []\n",
    "new_left_labels = []\n",
    "new_right_images = []\n",
    "new_right_labels = []\n",
    "\n",
    "for img in right_images[:split]:\n",
    "    new_left_images.append(img)\n",
    "    new_left_labels.append([0,1])\n",
    "    new_right_images.append(np.fliplr(img))\n",
    "    new_right_labels.append([1,0])\n",
    "for img in right_images[split:]:\n",
    "    new_left_images.append(np.fliplr(img))\n",
    "    new_left_labels.append([0,1])\n",
    "    new_right_images.append(img)\n",
    "    new_right_labels.append([1,0])\n",
    "new_left_images = np.array(new_left_images)\n",
    "new_right_images = np.array(new_right_images)"
   ]
  },
  {
   "cell_type": "code",
   "execution_count": 4,
   "metadata": {},
   "outputs": [],
   "source": [
    "right_img_shuff, right_label_shuff = utils.shuffle(new_right_images, new_right_labels,random_state=0)\n",
    "left_img_shuff, left_label_shuff = utils.shuffle(new_left_images, new_left_labels,random_state=0)"
   ]
  },
  {
   "cell_type": "code",
   "execution_count": 5,
   "metadata": {},
   "outputs": [],
   "source": [
    "X_train = np.concatenate((right_img_shuff[:191],left_img_shuff[:191]),axis =0)\n",
    "Y_train = np.concatenate((right_label_shuff[:191],left_label_shuff[:191]),axis = 0)\n",
    "X_test = np.concatenate((right_img_shuff[191:286],left_img_shuff[191:286]),axis = 0)\n",
    "Y_test = np.concatenate((right_label_shuff[191:286],left_label_shuff[191:286]),axis = 0)"
   ]
  },
  {
   "cell_type": "code",
   "execution_count": 6,
   "metadata": {},
   "outputs": [],
   "source": [
    "X_train_norm = X_train/X_train.max()\n",
    "X_test_norm = X_test/X_test.max()\n",
    "X_train_norm = np.expand_dims(X_train_norm,axis=3)\n",
    "X_test_norm = np.expand_dims(X_test_norm,axis=3)"
   ]
  },
  {
   "cell_type": "code",
   "execution_count": 7,
   "metadata": {},
   "outputs": [],
   "source": [
    "X_train_shuff, Y_train_shuff = utils.shuffle(X_train_norm, Y_train,random_state=0)\n",
    "X_test_shuff, Y_test_shuff = utils.shuffle(X_test_norm, Y_test,random_state=0)"
   ]
  },
  {
   "cell_type": "code",
   "execution_count": 8,
   "metadata": {},
   "outputs": [],
   "source": [
    "batch_size = 20\n",
    "seed = 42\n",
    "train_datagen = ImageDataGenerator(\n",
    "        rotation_range = 10,\n",
    "        shear_range=0.1,\n",
    "        zoom_range=0.2,\n",
    "        horizontal_flip=False,\n",
    "        vertical_flip = False)\n",
    "\n",
    "test_datagen = ImageDataGenerator(rescale=1.)\n",
    "\n",
    "train_generator = train_datagen.flow(X_train_shuff, y=Y_train_shuff, batch_size=batch_size,seed=seed)\n",
    "val_generator = test_datagen.flow(X_test_shuff,y=Y_test_shuff,batch_size=batch_size,seed=seed)"
   ]
  },
  {
   "cell_type": "code",
   "execution_count": 24,
   "metadata": {},
   "outputs": [],
   "source": [
    "del modelE\n",
    "clear_session()"
   ]
  },
  {
   "cell_type": "code",
   "execution_count": 25,
   "metadata": {},
   "outputs": [],
   "source": [
    "modelE = keras.models.Sequential()\n",
    "modelE.add(Conv2D(32, (3, 3), input_shape=(128, 128,1)))\n",
    "modelE.add(Activation('relu'))\n",
    "modelE.add(MaxPooling2D(pool_size=(2, 2)))\n",
    "\n",
    "modelE.add(Conv2D(32, (3, 3)))\n",
    "modelE.add(Activation('relu'))\n",
    "modelE.add(MaxPooling2D(pool_size=(2, 2)))\n",
    "\n",
    "modelE.add(Conv2D(64, (3, 3)))\n",
    "modelE.add(Activation('relu'))\n",
    "modelE.add(MaxPooling2D(pool_size=(2, 2)))\n",
    "\n",
    "modelE.add(Conv2D(64, (3, 3)))\n",
    "modelE.add(Activation('relu'))\n",
    "modelE.add(MaxPooling2D(pool_size=(2, 2)))\n",
    "\n",
    "modelE.add(Conv2D(64, (3, 3)))\n",
    "modelE.add(Activation('relu'))\n",
    "modelE.add(MaxPooling2D(pool_size=(2, 2)))\n",
    "\n",
    "modelE.add(Flatten())  # this converts our 3D feature maps to 1D feature vectors\n",
    "modelE.add(Dense(64))\n",
    "modelE.add(Activation('relu'))\n",
    "modelE.add(Dropout(0.5))\n",
    "modelE.add(Dense(2))\n",
    "modelE.add(Activation('softmax'))\n",
    "\n",
    "modelE.compile(loss='categorical_crossentropy',\n",
    "              optimizer='rmsprop',\n",
    "              metrics=['accuracy'])"
   ]
  },
  {
   "cell_type": "code",
   "execution_count": 26,
   "metadata": {},
   "outputs": [],
   "source": [
    "save_weights = 'chirality_classification_20pwrongleftrightlabels_weights_20200717.h5'"
   ]
  },
  {
   "cell_type": "code",
   "execution_count": 20,
   "metadata": {},
   "outputs": [],
   "source": [
    "modelCheckpoint = ModelCheckpoint(save_weights,\n",
    "                                  monitor = 'val_accuracy',\n",
    "                                  save_best_only = True,\n",
    "                                  mode = 'max',\n",
    "                                  verbose = 2,\n",
    "                                  save_weights_only = True)\n",
    "callbacks_list = [modelCheckpoint]"
   ]
  },
  {
   "cell_type": "code",
   "execution_count": 27,
   "metadata": {},
   "outputs": [
    {
     "name": "stdout",
     "output_type": "stream",
     "text": [
      "Epoch 1/15\n",
      "2500/2500 [==============================] - 348s 139ms/step - loss: 0.6526 - accuracy: 0.5699 - val_loss: 0.6505 - val_accuracy: 0.6347\n",
      "Epoch 2/15\n",
      "2500/2500 [==============================] - 342s 137ms/step - loss: 0.2339 - accuracy: 0.9047 - val_loss: 2.0480 - val_accuracy: 0.7005\n",
      "Epoch 3/15\n",
      "2500/2500 [==============================] - 340s 136ms/step - loss: 0.0754 - accuracy: 0.9757 - val_loss: 2.1068 - val_accuracy: 0.7161\n",
      "Epoch 4/15\n",
      "2500/2500 [==============================] - 336s 134ms/step - loss: 0.0512 - accuracy: 0.9845 - val_loss: 4.0357 - val_accuracy: 0.6463\n",
      "Epoch 5/15\n",
      "2500/2500 [==============================] - 334s 134ms/step - loss: 0.0481 - accuracy: 0.9878 - val_loss: 2.4093 - val_accuracy: 0.7000\n",
      "Epoch 6/15\n",
      "2500/2500 [==============================] - 333s 133ms/step - loss: 0.0475 - accuracy: 0.9879 - val_loss: 4.6038 - val_accuracy: 0.6845\n",
      "Epoch 7/15\n",
      "2500/2500 [==============================] - 330s 132ms/step - loss: 0.0558 - accuracy: 0.9875 - val_loss: 5.3152 - val_accuracy: 0.6534\n",
      "Epoch 8/15\n",
      "2500/2500 [==============================] - 328s 131ms/step - loss: 0.0615 - accuracy: 0.9868 - val_loss: 6.8299 - val_accuracy: 0.6776\n",
      "Epoch 9/15\n",
      "2500/2500 [==============================] - 330s 132ms/step - loss: 0.0658 - accuracy: 0.9871 - val_loss: 5.5222 - val_accuracy: 0.6489\n",
      "Epoch 10/15\n",
      "2500/2500 [==============================] - 336s 135ms/step - loss: 0.0684 - accuracy: 0.9864 - val_loss: 4.0302 - val_accuracy: 0.6782\n",
      "Epoch 11/15\n",
      "2500/2500 [==============================] - 337s 135ms/step - loss: 0.0685 - accuracy: 0.9868 - val_loss: 5.2413 - val_accuracy: 0.6692\n",
      "Epoch 12/15\n",
      "2500/2500 [==============================] - 333s 133ms/step - loss: 0.0739 - accuracy: 0.9861 - val_loss: 6.2852 - val_accuracy: 0.7013\n",
      "Epoch 13/15\n",
      "2500/2500 [==============================] - 333s 133ms/step - loss: 0.0750 - accuracy: 0.9862 - val_loss: 4.7481 - val_accuracy: 0.5945\n",
      "Epoch 14/15\n",
      "2500/2500 [==============================] - 328s 131ms/step - loss: 0.0846 - accuracy: 0.9851 - val_loss: 4.3383 - val_accuracy: 0.6679\n",
      "Epoch 15/15\n",
      "2500/2500 [==============================] - 327s 131ms/step - loss: 0.0956 - accuracy: 0.9850 - val_loss: 10.1461 - val_accuracy: 0.6632\n"
     ]
    }
   ],
   "source": [
    "historyE = modelE.fit(\n",
    "        train_generator,\n",
    "        steps_per_epoch=2500,\n",
    "        epochs=15,\n",
    "        validation_data=val_generator,\n",
    "        validation_steps=200)"
   ]
  },
  {
   "cell_type": "code",
   "execution_count": 28,
   "metadata": {},
   "outputs": [
    {
     "data": {
      "image/png": "[encoded data removed]",
      "text/plain": [
       "<Figure size 432x288 with 1 Axes>"
      ]
     },
     "metadata": {},
     "output_type": "display_data"
    }
   ],
   "source": [
    "plt.plot(historyE.history['accuracy'])\n",
    "plt.plot(historyE.history['val_accuracy'])\n",
    "plt.title('Model accuracy')\n",
    "plt.ylabel('Accuracy')\n",
    "plt.xlabel('Epoch')\n",
    "plt.legend(['Train', 'Test'], loc='upper left')\n",
    "plt.show()"
   ]
  },
  {
   "cell_type": "code",
   "execution_count": 29,
   "metadata": {},
   "outputs": [
    {
     "data": {
      "image/png": "[encoded data removed]",
      "text/plain": [
       "<Figure size 432x288 with 1 Axes>"
      ]
     },
     "metadata": {},
     "output_type": "display_data"
    }
   ],
   "source": [
    "plt.plot(historyE.history['loss'])\n",
    "plt.plot(historyE.history['val_loss'])\n",
    "plt.title('Model Loss')\n",
    "plt.ylabel('Loss')\n",
    "plt.xlabel('Epoch')\n",
    "plt.legend(['Train', 'Test'], loc='upper left')\n",
    "plt.show()"
   ]
  },
  {
   "cell_type": "code",
   "execution_count": 22,
   "metadata": {},
   "outputs": [
    {
     "data": {
      "text/plain": [
       "'2.2.0'"
      ]
     },
     "execution_count": 22,
     "metadata": {},
     "output_type": "execute_result"
    }
   ],
   "source": [
    "tf.__version__"
   ]
  },
  {
   "cell_type": "code",
   "execution_count": 23,
   "metadata": {},
   "outputs": [
    {
     "data": {
      "text/plain": [
       "19"
      ]
     },
     "execution_count": 23,
     "metadata": {},
     "output_type": "execute_result"
    }
   ],
   "source": [
    "X_train.shape[0]//batch_size"
   ]
  },
  {
   "cell_type": "code",
   "execution_count": 30,
   "metadata": {},
   "outputs": [
    {
     "data": {
      "text/plain": [
       "(383, 128, 128)"
      ]
     },
     "execution_count": 30,
     "metadata": {},
     "output_type": "execute_result"
    }
   ],
   "source": [
    "right_images.shape"
   ]
  },
  {
   "cell_type": "code",
   "execution_count": null,
   "metadata": {},
   "outputs": [],
   "source": []
  }
 ],
 "metadata": {
  "kernelspec": {
   "display_name": "Python (fouriernet)",
   "language": "python",
   "name": "fouriernet"
  },
  "language_info": {
   "codemirror_mode": {
    "name": "ipython",
    "version": 3
   },
   "file_extension": ".py",
   "mimetype": "text/x-python",
   "name": "python",
   "nbconvert_exporter": "python",
   "pygments_lexer": "ipython3",
   "version": "3.6.10"
  }
 },
 "nbformat": 4,
 "nbformat_minor": 2
}
