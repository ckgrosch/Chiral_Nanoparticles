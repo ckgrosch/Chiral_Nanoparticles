{
 "cells": [
  {
   "cell_type": "code",
   "execution_count": null,
   "metadata": {},
   "outputs": [],
   "source": [
    "import numpy as np\n",
    "from skimage import io\n",
    "import matplotlib.pyplot as plt\n",
    "import os"
   ]
  },
  {
   "cell_type": "code",
   "execution_count": null,
   "metadata": {},
   "outputs": [],
   "source": [
    "def load_files(images_path, masks_path, predictions_path):\n",
    "    images = []\n",
    "    masks = []\n",
    "    predictions = []\n",
    "    #predictions are jpgs, original images and masks are pngs\n",
    "    for pred_name in os.listdir(predictions_path):\n",
    "        if pred_name.endswith(\"jpg\"):\n",
    "            png = pred_name[:-3] + 'png'\n",
    "            prediction = io.imread(os.path.join(predictions_path, pred_name))\n",
    "            image = io.imread(os.path.join(images_path, png))\n",
    "            mask = io.imread(os.path.join(masks_path, png))\n",
    "            images.append(image)\n",
    "            masks.append(mask)\n",
    "            predictions.append(prediction)\n",
    "    return np.array(images), np.array(masks), np.array(predictions)"
   ]
  },
  {
   "cell_type": "code",
   "execution_count": null,
   "metadata": {},
   "outputs": [],
   "source": [
    "images_path = 'te_images'\n",
    "masks_path = 'te_masks'\n",
    "predictions_path = 'te_predictions'\n",
    "\n",
    "images, masks, predictions = load_files(images_path, masks_path, predictions_path)"
   ]
  },
  {
   "cell_type": "code",
   "execution_count": null,
   "metadata": {},
   "outputs": [],
   "source": [
    "def plot(i):\n",
    "    fig, axs = plt.subplots(1, 3, figsize=(9, 9))\n",
    "    axs[0].imshow(images[i])\n",
    "    axs[1].imshow(masks[i])\n",
    "    axs[2].imshow(predictions[i])"
   ]
  },
  {
   "cell_type": "code",
   "execution_count": null,
   "metadata": {},
   "outputs": [],
   "source": [
    "#i is just the index of the image/mask/prediction in the images/masks/predictions array that you want to plot\n",
    "i = 120\n",
    "plot(i)"
   ]
  },
  {
   "cell_type": "code",
   "execution_count": null,
   "metadata": {},
   "outputs": [],
   "source": []
  }
 ],
 "metadata": {
  "kernelspec": {
   "display_name": "Python 3",
   "language": "python",
   "name": "python3"
  },
  "language_info": {
   "codemirror_mode": {
    "name": "ipython",
    "version": 3
   },
   "file_extension": ".py",
   "mimetype": "text/x-python",
   "name": "python",
   "nbconvert_exporter": "python",
   "pygments_lexer": "ipython3",
   "version": "3.6.4"
  }
 },
 "nbformat": 4,
 "nbformat_minor": 2
}
