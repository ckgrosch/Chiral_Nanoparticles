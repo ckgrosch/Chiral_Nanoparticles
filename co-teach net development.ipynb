{
 "cells": [
  {
   "cell_type": "code",
   "execution_count": 187,
   "metadata": {},
   "outputs": [],
   "source": [
    "import tensorflow as tf\n",
    "from tensorflow import keras\n",
    "from tensorflow.keras.layers import Conv2D, MaxPooling2D, Activation, Dropout, Flatten, Dense, Input\n",
    "from tensorflow.keras.models import Sequential, load_model,Model\n",
    "import numpy as np\n",
    "from tensorflow.keras.losses import categorical_crossentropy as cce\n",
    "from tensorflow.keras.preprocessing.image import ImageDataGenerator\n",
    "# from keras.utils import to_categorical\n",
    "\n",
    "import h5py\n",
    "from sklearn import utils\n",
    "from tensorflow.keras.backend import clear_session\n",
    "from tensorflow.keras.callbacks import EarlyStopping, ModelCheckpoint\n",
    "from matplotlib import pyplot as plt\n",
    "from sklearn import metrics\n"
   ]
  },
  {
   "cell_type": "code",
   "execution_count": 2,
   "metadata": {},
   "outputs": [],
   "source": [
    "right_images = np.load('20200514_right__Chiral_D_Large_TIFF_Cropped_four_rows_sel_NPs_rotated.npy')"
   ]
  },
  {
   "cell_type": "code",
   "execution_count": 129,
   "metadata": {},
   "outputs": [],
   "source": [
    "new_left_images = []\n",
    "new_left_labels = []\n",
    "new_right_images = []\n",
    "new_right_labels = []\n",
    "\n",
    "\n",
    "for img in right_images:\n",
    "    new_left_images.append(np.fliplr(img))\n",
    "    new_left_labels.append([0,1])\n",
    "    new_right_images.append(img)\n",
    "    new_right_labels.append([1,0])\n",
    "new_left_images = np.array(new_left_images)\n",
    "new_right_images = np.array(new_right_images)\n",
    "\n",
    "split = int(0.2*95)\n",
    "\n",
    "right_img_shuff, right_label_shuff = utils.shuffle(new_right_images[:191], new_right_labels[:191],random_state=0)\n",
    "left_img_shuff, left_label_shuff = utils.shuffle(new_left_images[:191], new_left_labels[:191],random_state=0)\n",
    "\n",
    "X_trainA = np.concatenate((right_img_shuff[:95],left_img_shuff[:95]),axis =0)\n",
    "Y_trainA = np.concatenate((left_label_shuff[:split],right_label_shuff[split:95],right_label_shuff[:split],left_label_shuff[split:95]),axis = 0)\n",
    "X_trainB = np.concatenate((right_img_shuff[95:-1],left_img_shuff[95:-1]),axis =0)\n",
    "Y_trainB = np.concatenate((left_label_shuff[:split],right_label_shuff[split:95],right_label_shuff[:split],left_label_shuff[split:95]),axis = 0)\n",
    "\n",
    "\n",
    "right_img_shuff, right_label_shuff = utils.shuffle(new_right_images[191:286], new_right_labels[191:286],random_state=0)\n",
    "left_img_shuff, left_label_shuff = utils.shuffle(new_left_images[191:286], new_left_labels[191:286],random_state=0)\n",
    "\n",
    "split = int(0.2*47)\n",
    "\n",
    "X_testA = np.concatenate((right_img_shuff[:47],left_img_shuff[:47]),axis = 0)\n",
    "Y_testA = np.concatenate((left_label_shuff[:split],right_label_shuff[split:47],right_label_shuff[:split],left_label_shuff[split:47]),axis = 0)\n",
    "correct_testA = np.concatenate((right_label_shuff[47:-1],left_label_shuff[47:-1]),axis = 0)\n",
    "X_testB = np.concatenate((right_img_shuff[47:-1],left_img_shuff[47:-1]),axis = 0)\n",
    "Y_testB = np.concatenate((left_label_shuff[:split],right_label_shuff[split:47],right_label_shuff[:split],left_label_shuff[split:47]),axis = 0)\n",
    "correct_testB = np.concatenate((right_label_shuff[47:-1],left_label_shuff[47:-1]),axis = 0)\n",
    "\n",
    "X_trainA = X_trainA/X_trainA.max()\n",
    "X_testA = X_testA/X_testA.max()\n",
    "X_trainB= X_trainB/X_trainB.max()\n",
    "X_testB = X_testB/X_testB.max()\n",
    "\n",
    "X_trainA = np.expand_dims(X_trainA,axis=3)\n",
    "X_testA = np.expand_dims(X_testA,axis=3)\n",
    "X_trainB = np.expand_dims(X_trainB,axis=3)\n",
    "X_testB = np.expand_dims(X_testB,axis=3)\n",
    "\n",
    "X_trainA, Y_trainA = utils.shuffle(X_trainA, Y_trainA,random_state=0)\n",
    "X_testA, Y_testA, correct_testA = utils.shuffle(X_testA, Y_testA, correct_testA,random_state=0)\n",
    "X_trainB,Y_trainB = utils.shuffle(X_trainB, Y_trainB,random_state=0)\n",
    "X_testB, Y_testB, correct_testB = utils.shuffle(X_testB, Y_testB, correct_testB, random_state=0)"
   ]
  },
  {
   "cell_type": "code",
   "execution_count": 48,
   "metadata": {},
   "outputs": [
    {
     "data": {
      "text/plain": [
       "1520"
      ]
     },
     "execution_count": 48,
     "metadata": {},
     "output_type": "execute_result"
    }
   ],
   "source": [
    "X_trainA.shape[0]*200//25"
   ]
  },
  {
   "cell_type": "code",
   "execution_count": 161,
   "metadata": {},
   "outputs": [],
   "source": [
    "batch_size = 25\n",
    "seed = 42\n",
    "train_datagen = ImageDataGenerator(\n",
    "        rotation_range = 10,\n",
    "        shear_range=0.2,\n",
    "        zoom_range=0.3,\n",
    "        horizontal_flip=False,\n",
    "        vertical_flip = False)\n",
    "\n",
    "test_datagen = ImageDataGenerator(rescale=1.)\n",
    "\n",
    "train_generatorA = train_datagen.flow(X_trainA.repeat(300,axis=0), y=np.array(Y_trainA).repeat(300,axis=0), batch_size=batch_size,seed=seed)\n",
    "val_generatorA = test_datagen.flow(X_testA.repeat(300,axis=0),y=Y_testA.repeat(300,axis=0),batch_size=batch_size,seed=seed)\n",
    "train_generatorB = train_datagen.flow(X_trainB.repeat(250,axis=0), y=Y_trainB.repeat(250,axis=0), batch_size=batch_size,seed=seed)\n",
    "val_generatorB = test_datagen.flow(X_testB.repeat(300,axis=0),y=Y_testB.repeat(300,axis=0),batch_size=batch_size,seed=seed)"
   ]
  },
  {
   "cell_type": "code",
   "execution_count": 152,
   "metadata": {},
   "outputs": [],
   "source": [
    "del modelA\n",
    "del modelB\n",
    "clear_session()"
   ]
  },
  {
   "cell_type": "code",
   "execution_count": 153,
   "metadata": {},
   "outputs": [],
   "source": [
    "modelA = keras.models.Sequential()\n",
    "modelA.add(Conv2D(42, (3, 3), input_shape=(128, 128,1)))\n",
    "modelA.add(Activation('relu'))\n",
    "modelA.add(MaxPooling2D(pool_size=(2, 2)))\n",
    "modelA.add(Conv2D(42, (3, 3)))\n",
    "modelA.add(Activation('relu'))\n",
    "modelA.add(MaxPooling2D(pool_size=(2, 2)))\n",
    "\n",
    "modelA.add(Conv2D(74, (3, 3)))\n",
    "modelA.add(Activation('relu'))\n",
    "modelA.add(MaxPooling2D(pool_size=(2, 2)))\n",
    "\n",
    "modelA.add(Conv2D(74, (3, 3)))\n",
    "modelA.add(Activation('relu'))\n",
    "modelA.add(MaxPooling2D(pool_size=(2, 2)))\n",
    "\n",
    "modelA.add(Conv2D(74, (3, 3)))\n",
    "modelA.add(Activation('relu'))\n",
    "modelA.add(MaxPooling2D(pool_size=(2, 2)))\n",
    "\n",
    "modelA.add(Flatten())  # this converts our 3D feature maps to 1D feature vectors\n",
    "modelA.add(Dense(74))\n",
    "modelA.add(Activation('relu'))\n",
    "modelA.add(Dropout(0.5))\n",
    "modelA.add(Dense(2))\n",
    "modelA.add(Activation('softmax'))\n",
    "\n",
    "modelA.compile(loss='categorical_crossentropy',optimizer=keras.optimizers.Adam(learning_rate=0.001),metrics=['accuracy'])\n",
    "\n",
    "modelB = keras.models.Sequential()\n",
    "modelB.add(Conv2D(22, (3, 3), input_shape=(128, 128,1)))\n",
    "modelB.add(Activation('relu'))\n",
    "modelB.add(MaxPooling2D(pool_size=(2, 2)))\n",
    "\n",
    "modelB.add(Conv2D(22, (3, 3)))\n",
    "modelB.add(Activation('relu'))\n",
    "modelB.add(MaxPooling2D(pool_size=(2, 2)))\n",
    "\n",
    "modelB.add(Conv2D(54, (3, 3)))\n",
    "modelB.add(Activation('relu'))\n",
    "modelB.add(MaxPooling2D(pool_size=(2, 2)))\n",
    "\n",
    "modelB.add(Conv2D(54, (3, 3)))\n",
    "modelB.add(Activation('relu'))\n",
    "modelB.add(MaxPooling2D(pool_size=(2, 2)))\n",
    "\n",
    "modelB.add(Conv2D(54, (3, 3)))\n",
    "modelB.add(Activation('relu'))\n",
    "modelB.add(MaxPooling2D(pool_size=(2, 2)))\n",
    "\n",
    "modelB.add(Flatten())  # this converts our 3D feature maps to 1D feature vectors\n",
    "modelB.add(Dense(54))\n",
    "modelB.add(Activation('relu'))\n",
    "modelB.add(Dropout(0.5))\n",
    "modelB.add(Dense(2))\n",
    "modelB.add(Activation('softmax'))\n",
    "\n",
    "modelB.compile(loss='categorical_crossentropy',\n",
    "              optimizer=keras.optimizers.Adam(learning_rate=0.001),\n",
    "              metrics=['accuracy'])"
   ]
  },
  {
   "cell_type": "code",
   "execution_count": null,
   "metadata": {},
   "outputs": [],
   "source": []
  },
  {
   "cell_type": "code",
   "execution_count": 162,
   "metadata": {},
   "outputs": [],
   "source": [
    "del modelA"
   ]
  },
  {
   "cell_type": "code",
   "execution_count": 163,
   "metadata": {},
   "outputs": [],
   "source": [
    "modelA = keras.models.Sequential()\n",
    "modelA.add(Conv2D(32, (3, 3), input_shape=(128, 128,1)))\n",
    "modelA.add(Activation('relu'))\n",
    "modelA.add(MaxPooling2D(pool_size=(2, 2)))\n",
    "modelA.add(Conv2D(32, (3, 3)))\n",
    "modelA.add(Activation('relu'))\n",
    "modelA.add(MaxPooling2D(pool_size=(2, 2)))\n",
    "\n",
    "modelA.add(Conv2D(64, (3, 3)))\n",
    "modelA.add(Activation('relu'))\n",
    "modelA.add(MaxPooling2D(pool_size=(2, 2)))\n",
    "\n",
    "modelA.add(Conv2D(64, (3, 3)))\n",
    "modelA.add(Activation('relu'))\n",
    "modelA.add(MaxPooling2D(pool_size=(2, 2)))\n",
    "\n",
    "modelA.add(Conv2D(64, (3, 3)))\n",
    "modelA.add(Activation('relu'))\n",
    "modelA.add(MaxPooling2D(pool_size=(2, 2)))\n",
    "\n",
    "modelA.add(Flatten())  # this converts our 3D feature maps to 1D feature vectors\n",
    "modelA.add(Dense(64))\n",
    "modelA.add(Activation('relu'))\n",
    "modelA.add(Dropout(0.5))\n",
    "modelA.add(Dense(2))\n",
    "modelA.add(Activation('softmax'))\n",
    "\n",
    "modelA.compile(loss='categorical_crossentropy',optimizer=keras.optimizers.Adam(learning_rate=0.001),metrics=['accuracy'])\n"
   ]
  },
  {
   "cell_type": "code",
   "execution_count": 164,
   "metadata": {},
   "outputs": [
    {
     "name": "stdout",
     "output_type": "stream",
     "text": [
      "WARNING:tensorflow:Your input ran out of data; interrupting training. Make sure that your dataset or generator can generate at least `steps_per_epoch * epochs` batches (in this case, 2500 batches). You may need to use the repeat() function when building your dataset.\n",
      "2280/2500 - 405s - loss: 0.6933 - accuracy: 0.4975 - val_loss: 0.6931 - val_accuracy: 0.5008\n"
     ]
    }
   ],
   "source": [
    "historyA = modelA.fit_generator(\n",
    "        train_generatorA,\n",
    "        steps_per_epoch=2500,\n",
    "        epochs=1,\n",
    "        validation_data=val_generatorA,\n",
    "        validation_steps=100,\n",
    "        verbose = 2)"
   ]
  },
  {
   "cell_type": "code",
   "execution_count": 87,
   "metadata": {},
   "outputs": [
    {
     "name": "stdout",
     "output_type": "stream",
     "text": [
      "Epoch 1/3\n",
      "1000/1000 - 142s - loss: 0.3609 - accuracy: 0.8087 - val_loss: 0.2584 - val_accuracy: 0.9040\n",
      "Epoch 2/3\n",
      "1000/1000 - 138s - loss: 0.0347 - accuracy: 0.9891 - val_loss: 0.7054 - val_accuracy: 0.8460\n",
      "Epoch 3/3\n",
      "1000/1000 - 141s - loss: 0.0188 - accuracy: 0.9945 - val_loss: 0.0350 - val_accuracy: 0.9908\n"
     ]
    }
   ],
   "source": [
    "historyB = modelB.fit_generator(\n",
    "        train_generatorB,\n",
    "        steps_per_epoch=1000,\n",
    "        epochs=3,\n",
    "        validation_data=val_generatorB,\n",
    "        validation_steps=100,\n",
    "        verbose = 2)"
   ]
  },
  {
   "cell_type": "code",
   "execution_count": 88,
   "metadata": {},
   "outputs": [],
   "source": [
    "modelB.save_weights('20200921_suprise_amazingnet.h5')"
   ]
  },
  {
   "cell_type": "code",
   "execution_count": 157,
   "metadata": {},
   "outputs": [
    {
     "name": "stdout",
     "output_type": "stream",
     "text": [
      "1500/1500 - 201s - loss: 0.6305 - accuracy: 0.6066 - val_loss: 0.6796 - val_accuracy: 0.6664\n"
     ]
    }
   ],
   "source": [
    "historyB = modelB.fit_generator(\n",
    "        train_generatorB,\n",
    "        steps_per_epoch=1500,\n",
    "        epochs=1,\n",
    "        validation_data=val_generatorB,\n",
    "        validation_steps=100,\n",
    "        verbose = 2)"
   ]
  },
  {
   "cell_type": "code",
   "execution_count": 207,
   "metadata": {},
   "outputs": [
    {
     "name": "stdout",
     "output_type": "stream",
     "text": [
      "Epoch 1/2\n",
      "1500/1500 - 200s - loss: 0.6933 - accuracy: 0.4995 - val_loss: 0.6932 - val_accuracy: 0.4928\n",
      "Epoch 2/2\n",
      "1500/1500 - 201s - loss: 0.6932 - accuracy: 0.4996 - val_loss: 0.6934 - val_accuracy: 0.4932\n"
     ]
    }
   ],
   "source": [
    "historyB2 = modelB2.fit_generator(\n",
    "        train_generatorA,\n",
    "        steps_per_epoch=1500,\n",
    "        epochs=2,\n",
    "        validation_data=val_generatorA,\n",
    "        validation_steps=100,\n",
    "        verbose = 2)"
   ]
  },
  {
   "cell_type": "code",
   "execution_count": 204,
   "metadata": {},
   "outputs": [],
   "source": [
    "modelB2 = keras.models.Sequential()\n",
    "modelB2.add(Conv2D(22, (3, 3), input_shape=(128, 128,1)))\n",
    "modelB2.add(Activation('relu'))\n",
    "modelB2.add(MaxPooling2D(pool_size=(2, 2)))\n",
    "\n",
    "modelB2.add(Conv2D(22, (3, 3)))\n",
    "modelB2.add(Activation('relu'))\n",
    "modelB2.add(MaxPooling2D(pool_size=(2, 2)))\n",
    "\n",
    "modelB2.add(Conv2D(54, (3, 3)))\n",
    "modelB2.add(Activation('relu'))\n",
    "modelB2.add(MaxPooling2D(pool_size=(2, 2)))\n",
    "\n",
    "modelB2.add(Conv2D(54, (3, 3)))\n",
    "modelB2.add(Activation('relu'))\n",
    "modelB2.add(MaxPooling2D(pool_size=(2, 2)))\n",
    "\n",
    "modelB2.add(Conv2D(54, (3, 3)))\n",
    "modelB2.add(Activation('relu'))\n",
    "modelB2.add(MaxPooling2D(pool_size=(2, 2)))\n",
    "\n",
    "modelB2.add(Flatten())  # this converts our 3D feature maps to 1D feature vectors\n",
    "modelB2.add(Dense(54))\n",
    "modelB2.add(Activation('relu'))\n",
    "modelB2.add(Dropout(0.5))\n",
    "modelB2.add(Dense(2))\n",
    "modelB2.add(Activation('softmax'))\n",
    "\n",
    "modelB2.compile(loss='categorical_crossentropy',\n",
    "              optimizer=keras.optimizers.Adam(learning_rate=0.001),\n",
    "              metrics=['accuracy'])"
   ]
  },
  {
   "cell_type": "code",
   "execution_count": 101,
   "metadata": {},
   "outputs": [],
   "source": [
    "split = int(0.2*47)\n",
    "\n",
    "X_testA = np.concatenate((right_img_shuff[:47],left_img_shuff[:47]),axis = 0)\n",
    "Y_testA = np.concatenate((left_label_shuff[:split],right_label_shuff[split:47],right_label_shuff[:split],left_label_shuff[split:47]),axis = 0)\n",
    "X_testB = np.concatenate((right_img_shuff[47:-1],left_img_shuff[47:-1]),axis = 0)\n",
    "Y_testB = np.concatenate((left_label_shuff[:split],right_label_shuff[split:47],right_label_shuff[:split],left_label_shuff[split:47]),axis = 0)\n",
    "X_testA = X_testA/X_testA.max()\n",
    "X_testB = X_testB/X_testB.max()\n",
    "X_testA = np.expand_dims(X_testA,axis=3)\n",
    "X_testB = np.expand_dims(X_testB,axis=3)\n"
   ]
  },
  {
   "cell_type": "code",
   "execution_count": 102,
   "metadata": {},
   "outputs": [
    {
     "data": {
      "text/plain": [
       "(94, 128, 128, 1)"
      ]
     },
     "execution_count": 102,
     "metadata": {},
     "output_type": "execute_result"
    }
   ],
   "source": [
    "X_testB.shape"
   ]
  },
  {
   "cell_type": "code",
   "execution_count": 103,
   "metadata": {
    "scrolled": false
   },
   "outputs": [
    {
     "data": {
      "text/plain": [
       "array([[9.9999356e-01, 6.3872599e-06],\n",
       "       [6.2683332e-01, 3.7316674e-01],\n",
       "       [9.5418113e-01, 4.5818899e-02],\n",
       "       [1.0000000e+00, 5.3852389e-09],\n",
       "       [9.9999464e-01, 5.3464601e-06],\n",
       "       [9.9900889e-01, 9.9108799e-04],\n",
       "       [1.0000000e+00, 4.2036405e-08],\n",
       "       [9.9999654e-01, 3.4017048e-06],\n",
       "       [7.2878718e-01, 2.7121285e-01],\n",
       "       [9.9999964e-01, 4.0980251e-07]], dtype=float32)"
      ]
     },
     "execution_count": 103,
     "metadata": {},
     "output_type": "execute_result"
    }
   ],
   "source": [
    "modelA.predict(X_testB[:10])"
   ]
  },
  {
   "cell_type": "code",
   "execution_count": 106,
   "metadata": {
    "scrolled": true
   },
   "outputs": [
    {
     "data": {
      "text/plain": [
       "array([[0, 1],\n",
       "       [0, 1],\n",
       "       [0, 1],\n",
       "       [0, 1],\n",
       "       [0, 1],\n",
       "       [0, 1],\n",
       "       [0, 1],\n",
       "       [0, 1],\n",
       "       [0, 1],\n",
       "       [1, 0]])"
      ]
     },
     "execution_count": 106,
     "metadata": {},
     "output_type": "execute_result"
    }
   ],
   "source": [
    "Y_testB[:10]\n"
   ]
  },
  {
   "cell_type": "code",
   "execution_count": 165,
   "metadata": {},
   "outputs": [],
   "source": [
    "B= modelB.predict(X_testA[:10])\n"
   ]
  },
  {
   "cell_type": "code",
   "execution_count": 192,
   "metadata": {},
   "outputs": [],
   "source": [
    "A=model.predict(X_testA[:10])\n"
   ]
  },
  {
   "cell_type": "code",
   "execution_count": 166,
   "metadata": {},
   "outputs": [
    {
     "data": {
      "text/plain": [
       "<tf.Tensor: shape=(10,), dtype=float32, numpy=\n",
       "array([0.4379987 , 0.18802424, 0.13179591, 0.44081765, 0.03533849,\n",
       "       0.08124394, 0.86379886, 0.26602122, 0.0507086 , 0.06702727],\n",
       "      dtype=float32)>"
      ]
     },
     "execution_count": 166,
     "metadata": {},
     "output_type": "execute_result"
    }
   ],
   "source": [
    "cce(Y_testA[:10],B)\n"
   ]
  },
  {
   "cell_type": "code",
   "execution_count": 193,
   "metadata": {},
   "outputs": [
    {
     "data": {
      "text/plain": [
       "<tf.Tensor: shape=(10,), dtype=float32, numpy=\n",
       "array([1.6118095e+01, 1.1920929e-07, 1.1920929e-07, 1.1920929e-07,\n",
       "       1.1920929e-07, 1.1920929e-07, 1.1920929e-07, 1.1920929e-07,\n",
       "       1.6118095e+01, 1.1920929e-07], dtype=float32)>"
      ]
     },
     "execution_count": 193,
     "metadata": {},
     "output_type": "execute_result"
    }
   ],
   "source": [
    "cce(Y_testA[:10],A)\n"
   ]
  },
  {
   "cell_type": "code",
   "execution_count": 202,
   "metadata": {},
   "outputs": [
    {
     "data": {
      "text/plain": [
       "<tf.Tensor: shape=(1,), dtype=float32, numpy=array([0.6931472], dtype=float32)>"
      ]
     },
     "execution_count": 202,
     "metadata": {},
     "output_type": "execute_result"
    }
   ],
   "source": [
    "cce(np.array([[1,0]],dtype='float32'),np.array([[0.5,0.5]],dtype='float32'))"
   ]
  },
  {
   "cell_type": "code",
   "execution_count": 169,
   "metadata": {},
   "outputs": [
    {
     "data": {
      "text/plain": [
       "array([[0.35467336, 0.6453266 ],\n",
       "       [0.8285946 , 0.1714054 ],\n",
       "       [0.12348013, 0.87651986],\n",
       "       [0.64351004, 0.35649002],\n",
       "       [0.96527874, 0.03472132],\n",
       "       [0.07803123, 0.9219687 ],\n",
       "       [0.5784424 , 0.4215576 ],\n",
       "       [0.23357715, 0.7664228 ],\n",
       "       [0.9505556 , 0.04944438],\n",
       "       [0.06483027, 0.9351697 ]], dtype=float32)"
      ]
     },
     "execution_count": 169,
     "metadata": {},
     "output_type": "execute_result"
    }
   ],
   "source": [
    "B"
   ]
  },
  {
   "cell_type": "code",
   "execution_count": 195,
   "metadata": {},
   "outputs": [
    {
     "data": {
      "text/plain": [
       "array([[1.0000000e+00, 2.2607824e-32],\n",
       "       [1.0000000e+00, 1.1827928e-35],\n",
       "       [0.0000000e+00, 1.0000000e+00],\n",
       "       [1.0000000e+00, 0.0000000e+00],\n",
       "       [1.0000000e+00, 3.5047649e-38],\n",
       "       [3.8423028e-25, 1.0000000e+00],\n",
       "       [4.5789402e-18, 1.0000000e+00],\n",
       "       [0.0000000e+00, 1.0000000e+00],\n",
       "       [9.9196236e-20, 1.0000000e+00],\n",
       "       [1.0461702e-10, 1.0000000e+00]], dtype=float32)"
      ]
     },
     "execution_count": 195,
     "metadata": {},
     "output_type": "execute_result"
    }
   ],
   "source": [
    "A"
   ]
  },
  {
   "cell_type": "code",
   "execution_count": 170,
   "metadata": {},
   "outputs": [
    {
     "data": {
      "text/plain": [
       "array([[0, 1],\n",
       "       [1, 0],\n",
       "       [0, 1],\n",
       "       [1, 0],\n",
       "       [1, 0],\n",
       "       [0, 1],\n",
       "       [0, 1],\n",
       "       [0, 1],\n",
       "       [1, 0],\n",
       "       [0, 1]])"
      ]
     },
     "execution_count": 170,
     "metadata": {},
     "output_type": "execute_result"
    }
   ],
   "source": [
    "Y_testA[:10]"
   ]
  },
  {
   "cell_type": "code",
   "execution_count": 171,
   "metadata": {},
   "outputs": [
    {
     "data": {
      "text/plain": [
       "array([[1, 0],\n",
       "       [1, 0],\n",
       "       [0, 1],\n",
       "       [1, 0],\n",
       "       [1, 0],\n",
       "       [0, 1],\n",
       "       [0, 1],\n",
       "       [0, 1],\n",
       "       [1, 0],\n",
       "       [0, 1]])"
      ]
     },
     "execution_count": 171,
     "metadata": {},
     "output_type": "execute_result"
    }
   ],
   "source": [
    "correct_testA[:10]"
   ]
  },
  {
   "cell_type": "code",
   "execution_count": 175,
   "metadata": {},
   "outputs": [
    {
     "data": {
      "text/plain": [
       "0.9"
      ]
     },
     "execution_count": 175,
     "metadata": {},
     "output_type": "execute_result"
    }
   ],
   "source": [
    "metrics.accuracy_score(Y_testA[:10],B>0.55)"
   ]
  },
  {
   "cell_type": "code",
   "execution_count": 176,
   "metadata": {},
   "outputs": [
    {
     "data": {
      "text/plain": [
       "0.8"
      ]
     },
     "execution_count": 176,
     "metadata": {},
     "output_type": "execute_result"
    }
   ],
   "source": [
    "metrics.accuracy_score(correct_testA[:10],B>0.55)"
   ]
  },
  {
   "cell_type": "code",
   "execution_count": 196,
   "metadata": {},
   "outputs": [
    {
     "data": {
      "text/plain": [
       "<matplotlib.image.AxesImage at 0x1a41ef1518>"
      ]
     },
     "execution_count": 196,
     "metadata": {},
     "output_type": "execute_result"
    },
    {
     "data": {
      "image/png": "[encoded data removed]",
      "text/plain": [
       "<Figure size 432x288 with 1 Axes>"
      ]
     },
     "metadata": {},
     "output_type": "display_data"
    }
   ],
   "source": [
    "plt.imshow(X_testA[8,:,:,0])"
   ]
  },
  {
   "cell_type": "code",
   "execution_count": 188,
   "metadata": {},
   "outputs": [],
   "source": [
    "def down(filters, input_):\n",
    "    down_ = Conv2D(filters, (3, 3))(input_)\n",
    "    down_res = Activation('relu')(down_)\n",
    "    down_pool = MaxPooling2D((2, 2))(down_)\n",
    "    return down_pool\n",
    "\n",
    "def final_stack(input1_):\n",
    "    flat = Flatten()(input1_)\n",
    "    dense1 = Dense(64*2)(flat)\n",
    "    act1 = Activation('relu')(dense1)\n",
    "    drop = Dropout(0.5)(act1)\n",
    "    dense2 = Dense(2)(drop)\n",
    "    act2 = Activation('softmax')(dense2)\n",
    "    return act2\n",
    "\n",
    "\n",
    "def first_cnn(input_):\n",
    "    down1 = down(32*2,input_)\n",
    "    down2 = down(32*2,down1)\n",
    "    down3 = down(64*2,down2)\n",
    "    down4 = down(64*2,down3)\n",
    "    down5 = down(64*2,down4)\n",
    "    # final = first_final_stack(down5)\n",
    "    return down5\n",
    "\n",
    "def complete_model(input_shape):\n",
    "    input1 = Input(shape=input_shape)\n",
    "    final1 = first_cnn(input1)\n",
    "    final = final_stack(final1)\n",
    "    model = Model(inputs=input1, outputs=final)\n",
    "    return model\n",
    "\n",
    "model = complete_model((128, 128,1))\n",
    "\n",
    "model.compile(loss='categorical_crossentropy',\n",
    "              optimizer='Adadelta',\n",
    "              metrics=['accuracy'])"
   ]
  },
  {
   "cell_type": "code",
   "execution_count": 189,
   "metadata": {},
   "outputs": [],
   "source": [
    "model.load_weights('savio_nets/rcnnV1_counternet_20pwrongleftrightlabels_weights_20200821.h5')"
   ]
  },
  {
   "cell_type": "code",
   "execution_count": 126,
   "metadata": {},
   "outputs": [
    {
     "data": {
      "text/plain": [
       "array([9.9999976e-01, 2.4198766e-07], dtype=float32)"
      ]
     },
     "execution_count": 126,
     "metadata": {},
     "output_type": "execute_result"
    }
   ],
   "source": [
    "B[8]\n"
   ]
  },
  {
   "cell_type": "code",
   "execution_count": 127,
   "metadata": {},
   "outputs": [
    {
     "data": {
      "text/plain": [
       "array([0.98725116, 0.01274881], dtype=float32)"
      ]
     },
     "execution_count": 127,
     "metadata": {},
     "output_type": "execute_result"
    }
   ],
   "source": [
    "A[8]"
   ]
  },
  {
   "cell_type": "code",
   "execution_count": 104,
   "metadata": {},
   "outputs": [
    {
     "data": {
      "text/plain": [
       "9"
      ]
     },
     "execution_count": 104,
     "metadata": {},
     "output_type": "execute_result"
    }
   ],
   "source": [
    "split"
   ]
  },
  {
   "cell_type": "code",
   "execution_count": 90,
   "metadata": {},
   "outputs": [
    {
     "data": {
      "text/plain": [
       "['loss', 'accuracy', 'val_loss', 'val_accuracy']"
      ]
     },
     "execution_count": 90,
     "metadata": {},
     "output_type": "execute_result"
    }
   ],
   "source": [
    "list(historyA.history.keys())"
   ]
  },
  {
   "cell_type": "code",
   "execution_count": 91,
   "metadata": {},
   "outputs": [
    {
     "data": {
      "text/plain": [
       "[0.80867999792099, 0.989080011844635, 0.9945200085639954]"
      ]
     },
     "execution_count": 91,
     "metadata": {},
     "output_type": "execute_result"
    }
   ],
   "source": [
    "historyB.history['accuracy'][:]"
   ]
  },
  {
   "cell_type": "code",
   "execution_count": 136,
   "metadata": {},
   "outputs": [
    {
     "data": {
      "image/png": "[encoded data removed]",
      "text/plain": [
       "<Figure size 432x288 with 1 Axes>"
      ]
     },
     "metadata": {},
     "output_type": "display_data"
    },
    {
     "data": {
      "image/png": "[encoded data removed]",
      "text/plain": [
       "<Figure size 432x288 with 1 Axes>"
      ]
     },
     "metadata": {},
     "output_type": "display_data"
    }
   ],
   "source": [
    "plt.plot(historyA.history['accuracy'][:])\n",
    "plt.plot(historyA.history['val_accuracy'][:])\n",
    "plt.title('Model accuracy')\n",
    "plt.ylabel('Accuracy')\n",
    "plt.xlabel('Epoch')\n",
    "plt.legend(['Train', 'Test'], loc='upper left')\n",
    "plt.show()\n",
    "\n",
    "plt.plot(historyA.history['loss'])\n",
    "plt.plot(historyA.history['val_loss'])\n",
    "plt.title('Model Loss')\n",
    "plt.ylabel('Loss')\n",
    "plt.xlabel('Epoch')\n",
    "plt.legend(['Train', 'Test'], loc='upper left')\n",
    "plt.show()"
   ]
  },
  {
   "cell_type": "code",
   "execution_count": 137,
   "metadata": {},
   "outputs": [
    {
     "data": {
      "image/png": "[encoded data removed]",
      "text/plain": [
       "<Figure size 432x288 with 1 Axes>"
      ]
     },
     "metadata": {},
     "output_type": "display_data"
    },
    {
     "data": {
      "image/png": "[encoded data removed]",
      "text/plain": [
       "<Figure size 432x288 with 1 Axes>"
      ]
     },
     "metadata": {},
     "output_type": "display_data"
    }
   ],
   "source": [
    "plt.plot(historyB.history['accuracy'][:])\n",
    "plt.plot(historyB.history['val_accuracy'][:])\n",
    "plt.title('Model accuracy')\n",
    "plt.ylabel('Accuracy')\n",
    "plt.xlabel('Epoch')\n",
    "plt.legend(['Train', 'Test'], loc='upper left')\n",
    "plt.show()\n",
    "\n",
    "plt.plot(historyB.history['loss'])\n",
    "plt.plot(historyB.history['val_loss'])\n",
    "plt.title('Model Loss')\n",
    "plt.ylabel('Loss')\n",
    "plt.xlabel('Epoch')\n",
    "plt.legend(['Train', 'Test'], loc='upper left')\n",
    "plt.show()"
   ]
  },
  {
   "cell_type": "code",
   "execution_count": 68,
   "metadata": {},
   "outputs": [
    {
     "data": {
      "text/plain": [
       "(94, 128, 128, 1)"
      ]
     },
     "execution_count": 68,
     "metadata": {},
     "output_type": "execute_result"
    }
   ],
   "source": [
    "X_testA.shape"
   ]
  },
  {
   "cell_type": "code",
   "execution_count": 69,
   "metadata": {},
   "outputs": [
    {
     "data": {
      "text/plain": [
       "array([[1.0000000e+00, 7.1300787e-09],\n",
       "       [1.0000000e+00, 5.3328023e-13],\n",
       "       [1.1577945e-11, 1.0000000e+00],\n",
       "       [1.0000000e+00, 3.6247514e-09],\n",
       "       [1.0000000e+00, 1.0967026e-15],\n",
       "       [6.4149714e-07, 9.9999940e-01],\n",
       "       [1.6630494e-09, 1.0000000e+00],\n",
       "       [6.1590715e-12, 1.0000000e+00],\n",
       "       [1.0000000e+00, 2.8206798e-11],\n",
       "       [4.3512890e-07, 9.9999952e-01]], dtype=float32)"
      ]
     },
     "execution_count": 69,
     "metadata": {},
     "output_type": "execute_result"
    }
   ],
   "source": [
    "modelB.predict(X_testA[:10])"
   ]
  },
  {
   "cell_type": "code",
   "execution_count": 70,
   "metadata": {},
   "outputs": [
    {
     "data": {
      "text/plain": [
       "array([[1, 0],\n",
       "       [1, 0],\n",
       "       [0, 1],\n",
       "       [1, 0],\n",
       "       [1, 0],\n",
       "       [0, 1],\n",
       "       [0, 1],\n",
       "       [0, 1],\n",
       "       [1, 0],\n",
       "       [0, 1]])"
      ]
     },
     "execution_count": 70,
     "metadata": {},
     "output_type": "execute_result"
    }
   ],
   "source": [
    "Y_testA[:10]"
   ]
  },
  {
   "cell_type": "code",
   "execution_count": 71,
   "metadata": {},
   "outputs": [
    {
     "data": {
      "text/plain": [
       "array([[9.9518049e-01, 4.8195822e-03],\n",
       "       [9.9999928e-01, 7.6994183e-07],\n",
       "       [1.7041018e-06, 9.9999833e-01],\n",
       "       [9.9817371e-01, 1.8262628e-03],\n",
       "       [9.9778521e-01, 2.2147400e-03],\n",
       "       [3.3923923e-05, 9.9996603e-01],\n",
       "       [7.0815361e-01, 2.9184639e-01],\n",
       "       [1.2889745e-05, 9.9998713e-01],\n",
       "       [9.9989605e-01, 1.0394705e-04],\n",
       "       [3.4412491e-04, 9.9965584e-01]], dtype=float32)"
      ]
     },
     "execution_count": 71,
     "metadata": {},
     "output_type": "execute_result"
    }
   ],
   "source": [
    "modelA.predict(X_testB[:10])"
   ]
  },
  {
   "cell_type": "code",
   "execution_count": 74,
   "metadata": {},
   "outputs": [
    {
     "data": {
      "text/plain": [
       "array([[1, 0],\n",
       "       [1, 0],\n",
       "       [0, 1],\n",
       "       [1, 0],\n",
       "       [1, 0],\n",
       "       [0, 1],\n",
       "       [0, 1],\n",
       "       [0, 1],\n",
       "       [1, 0],\n",
       "       [0, 1]])"
      ]
     },
     "execution_count": 74,
     "metadata": {},
     "output_type": "execute_result"
    }
   ],
   "source": [
    "Y_testB[:10]"
   ]
  },
  {
   "cell_type": "code",
   "execution_count": 75,
   "metadata": {},
   "outputs": [
    {
     "data": {
      "text/plain": [
       "<matplotlib.image.AxesImage at 0x1a41d394e0>"
      ]
     },
     "execution_count": 75,
     "metadata": {},
     "output_type": "execute_result"
    },
    {
     "data": {
      "image/png": "[encoded data removed]",
      "text/plain": [
       "<Figure size 432x288 with 1 Axes>"
      ]
     },
     "metadata": {},
     "output_type": "display_data"
    }
   ],
   "source": [
    "plt.imshow(X_testB[-4,:,:,0])"
   ]
  },
  {
   "cell_type": "code",
   "execution_count": 76,
   "metadata": {},
   "outputs": [
    {
     "name": "stdout",
     "output_type": "stream",
     "text": [
      "3/3 [==============================] - 0s 32ms/step - loss: 0.1908 - accuracy: 0.9043\n"
     ]
    },
    {
     "data": {
      "text/plain": [
       "[0.1907595992088318, 0.9042553305625916]"
      ]
     },
     "execution_count": 76,
     "metadata": {},
     "output_type": "execute_result"
    }
   ],
   "source": [
    "modelA.evaluate(X_testB,Y_testB)\n"
   ]
  },
  {
   "cell_type": "code",
   "execution_count": 77,
   "metadata": {},
   "outputs": [
    {
     "name": "stdout",
     "output_type": "stream",
     "text": [
      "3/3 [==============================] - 0s 27ms/step - loss: 0.9667 - accuracy: 0.8511\n"
     ]
    },
    {
     "data": {
      "text/plain": [
       "[0.9667279124259949, 0.8510638475418091]"
      ]
     },
     "execution_count": 77,
     "metadata": {},
     "output_type": "execute_result"
    }
   ],
   "source": [
    "modelB.evaluate(X_testA,Y_testA)\n"
   ]
  },
  {
   "cell_type": "code",
   "execution_count": 78,
   "metadata": {},
   "outputs": [
    {
     "name": "stdout",
     "output_type": "stream",
     "text": [
      "3/3 [==============================] - 0s 33ms/step - loss: 0.7376 - accuracy: 0.8404\n"
     ]
    },
    {
     "data": {
      "text/plain": [
       "[0.7376053929328918, 0.8404255509376526]"
      ]
     },
     "execution_count": 78,
     "metadata": {},
     "output_type": "execute_result"
    }
   ],
   "source": [
    "modelA.evaluate(X_testA,Y_testA)\n"
   ]
  },
  {
   "cell_type": "code",
   "execution_count": null,
   "metadata": {},
   "outputs": [],
   "source": []
  }
 ],
 "metadata": {
  "kernelspec": {
   "display_name": "Python (fouriernet)",
   "language": "python",
   "name": "fouriernet"
  },
  "language_info": {
   "codemirror_mode": {
    "name": "ipython",
    "version": 3
   },
   "file_extension": ".py",
   "mimetype": "text/x-python",
   "name": "python",
   "nbconvert_exporter": "python",
   "pygments_lexer": "ipython3",
   "version": "3.6.10"
  }
 },
 "nbformat": 4,
 "nbformat_minor": 2
}
