{
 "cells": [
  {
   "cell_type": "code",
   "execution_count": 1,
   "metadata": {},
   "outputs": [
    {
     "name": "stderr",
     "output_type": "stream",
     "text": [
      "Using TensorFlow backend.\n"
     ]
    }
   ],
   "source": [
    "import tensorflow as tf\n",
    "from tensorflow import keras\n",
    "from tensorflow.keras.layers import Conv2D, MaxPooling2D, Activation, Dropout, Flatten, Dense\n",
    "from tensorflow.keras.models import Sequential, load_model\n",
    "import numpy as np\n",
    "import matplotlib.pyplot as plt\n",
    "from keras.preprocessing.image import ImageDataGenerator\n",
    "# from keras.utils import to_categorical\n",
    "from sklearn import metrics\n",
    "import h5py\n",
    "from sklearn import utils\n",
    "from tensorflow.keras.backend import clear_session\n",
    "from tensorflow.keras.callbacks import EarlyStopping, ModelCheckpoint"
   ]
  },
  {
   "cell_type": "code",
   "execution_count": 2,
   "metadata": {},
   "outputs": [],
   "source": [
    "right_images = np.load('20200514_right__Chiral_D_Large_TIFF_Cropped_four_rows_sel_NPs_rotated.npy')\n",
    "right_labels = [[1,0] for i in np.arange(0,len(right_images))]"
   ]
  },
  {
   "cell_type": "code",
   "execution_count": 6,
   "metadata": {},
   "outputs": [],
   "source": [
    "\n",
    "\n",
    "new_left_images = []\n",
    "new_left_labels = []\n",
    "new_right_images = []\n",
    "new_right_labels = []\n",
    "\n",
    "\n",
    "for img in right_images:\n",
    "    new_left_images.append(np.fliplr(img))\n",
    "    new_left_labels.append([0,1])\n",
    "    new_right_images.append(img)\n",
    "    new_right_labels.append([1,0])\n",
    "new_left_images = np.array(new_left_images)\n",
    "new_right_images = np.array(new_right_images)\n",
    "\n",
    "split = int(191*0.2)\n",
    "\n",
    "\n",
    "for idx in np.arange(0,split):\n",
    "    new_right_images[idx] = np.fliplr(new_right_images[idx])\n",
    "\n",
    "for idx in np.arange(0,split):\n",
    "    new_left_images[idx] = np.fliplr(new_left_images[idx])\n",
    "\n",
    "right_img_shuff, right_label_shuff = utils.shuffle(new_right_images[:191], new_right_labels[:191],random_state=0)\n",
    "left_img_shuff, left_label_shuff = utils.shuffle(new_left_images[:191], new_left_labels[:191],random_state=0)\n",
    "\n",
    "X_train = np.concatenate((right_img_shuff[:191],left_img_shuff[:191]),axis =0)\n",
    "Y_train = np.concatenate((right_label_shuff[:191],left_label_shuff[:191]),axis = 0)\n",
    "\n",
    "split = int(95*0.2)\n",
    "\n",
    "flipped_right_indices = np.random.choice(np.arange(191,286),split,replace=False)\n",
    "flipped_left_indices = np.random.choice(np.arange(191,286),split,replace=False)\n",
    "\n",
    "for idx in np.arange(191,191+split):\n",
    "    new_right_images[idx] = np.fliplr(new_right_images[idx])\n",
    "\n",
    "for idx in np.arange(191,191+split):\n",
    "    new_left_images[idx] = np.fliplr(new_left_images[idx])\n",
    "\n",
    "right_img_shuff, right_label_shuff = utils.shuffle(new_right_images[191:286], new_right_labels[191:286],random_state=0)\n",
    "left_img_shuff, left_label_shuff = utils.shuffle(new_left_images[191:286], new_left_labels[191:286],random_state=0)\n",
    "\n",
    "\n",
    "X_test = np.concatenate((right_img_shuff,left_img_shuff),axis = 0)\n",
    "Y_test = np.concatenate((right_label_shuff,left_label_shuff),axis = 0)\n",
    "\n",
    "X_train_norm = X_train/X_train.max()\n",
    "X_test_norm = X_test/X_test.max()\n",
    "X_train_norm = np.expand_dims(X_train_norm,axis=3)\n",
    "X_test_norm = np.expand_dims(X_test_norm,axis=3)\n",
    "\n",
    "X_train_shuff, Y_train_shuff = utils.shuffle(X_train_norm, Y_train,random_state=0)\n",
    "X_test_shuff, Y_test_shuff = utils.shuffle(X_test_norm, Y_test,random_state=0)\n",
    "\n",
    "batch_size = 25\n",
    "seed = 42\n",
    "train_datagen = ImageDataGenerator(\n",
    "        rotation_range = 10,\n",
    "        shear_range=0.1,\n",
    "        zoom_range=0.1,\n",
    "        horizontal_flip=False,\n",
    "        vertical_flip = False)\n",
    "\n",
    "test_datagen = ImageDataGenerator(rescale=1.)\n",
    "\n",
    "train_generator = train_datagen.flow(X_train_shuff, y=Y_train_shuff, batch_size=batch_size,seed=seed)\n",
    "val_generator = test_datagen.flow(X_test_shuff,y=Y_test_shuff,batch_size=batch_size,seed=seed)"
   ]
  },
  {
   "cell_type": "code",
   "execution_count": 7,
   "metadata": {},
   "outputs": [],
   "source": [
    "modelE = keras.models.Sequential()\n",
    "modelE.add(Conv2D(32, (3, 3), input_shape=(128, 128,1)))\n",
    "modelE.add(Activation('relu'))\n",
    "modelE.add(MaxPooling2D(pool_size=(2, 2)))\n",
    "\n",
    "modelE.add(Conv2D(32, (3, 3)))\n",
    "modelE.add(Activation('relu'))\n",
    "modelE.add(MaxPooling2D(pool_size=(2, 2)))\n",
    "\n",
    "modelE.add(Conv2D(64, (3, 3)))\n",
    "modelE.add(Activation('relu'))\n",
    "modelE.add(MaxPooling2D(pool_size=(2, 2)))\n",
    "\n",
    "modelE.add(Conv2D(64, (3, 3)))\n",
    "modelE.add(Activation('relu'))\n",
    "modelE.add(MaxPooling2D(pool_size=(2, 2)))\n",
    "\n",
    "modelE.add(Conv2D(64, (3, 3)))\n",
    "modelE.add(Activation('relu'))\n",
    "modelE.add(MaxPooling2D(pool_size=(2, 2)))\n",
    "\n",
    "modelE.add(Flatten())  # this converts our 3D feature maps to 1D feature vectors\n",
    "modelE.add(Dense(64))\n",
    "modelE.add(Activation('relu'))\n",
    "modelE.add(Dropout(0.5))\n",
    "modelE.add(Dense(2))\n",
    "modelE.add(Activation('softmax'))\n",
    "\n",
    "modelE.compile(loss='categorical_crossentropy',\n",
    "              optimizer='rmsprop',\n",
    "              metrics=['accuracy'])"
   ]
  },
  {
   "cell_type": "code",
   "execution_count": 8,
   "metadata": {},
   "outputs": [
    {
     "name": "stdout",
     "output_type": "stream",
     "text": [
      "Epoch 1/15\n",
      "2500/2500 [==============================] - 443s 177ms/step - loss: 0.6934 - accuracy: 0.4914 - val_loss: 0.6931 - val_accuracy: 0.5000\n",
      "Epoch 2/15\n",
      "2500/2500 [==============================] - 453s 181ms/step - loss: 0.6932 - accuracy: 0.4878 - val_loss: 0.6931 - val_accuracy: 0.5006\n",
      "Epoch 3/15\n",
      "2500/2500 [==============================] - 456s 182ms/step - loss: 0.6932 - accuracy: 0.4908 - val_loss: 0.6932 - val_accuracy: 0.4996\n",
      "Epoch 4/15\n",
      "2500/2500 [==============================] - 454s 182ms/step - loss: 0.6932 - accuracy: 0.4890 - val_loss: 0.6932 - val_accuracy: 0.4996\n",
      "Epoch 5/15\n",
      "2500/2500 [==============================] - 463s 185ms/step - loss: 0.6932 - accuracy: 0.4872 - val_loss: 0.6931 - val_accuracy: 0.5021\n",
      "Epoch 6/15\n",
      "2500/2500 [==============================] - 451s 180ms/step - loss: 0.6932 - accuracy: 0.4885 - val_loss: 0.6931 - val_accuracy: 0.4977\n",
      "Epoch 7/15\n",
      "2500/2500 [==============================] - 452s 181ms/step - loss: 0.6932 - accuracy: 0.4908 - val_loss: 0.6931 - val_accuracy: 0.4992\n",
      "Epoch 8/15\n",
      "2500/2500 [==============================] - 448s 179ms/step - loss: 0.6932 - accuracy: 0.4879 - val_loss: 0.6932 - val_accuracy: 0.5002\n",
      "Epoch 9/15\n",
      "2500/2500 [==============================] - 446s 178ms/step - loss: 0.6932 - accuracy: 0.4864 - val_loss: 0.6931 - val_accuracy: 0.5000\n",
      "Epoch 10/15\n",
      "2500/2500 [==============================] - 447s 179ms/step - loss: 0.6932 - accuracy: 0.4894 - val_loss: 0.6932 - val_accuracy: 0.5006\n",
      "Epoch 11/15\n",
      "2500/2500 [==============================] - 448s 179ms/step - loss: 0.6932 - accuracy: 0.4881 - val_loss: 0.6931 - val_accuracy: 0.5008\n",
      "Epoch 12/15\n",
      "2500/2500 [==============================] - 454s 182ms/step - loss: 0.6932 - accuracy: 0.4889 - val_loss: 0.6931 - val_accuracy: 0.5008\n",
      "Epoch 13/15\n",
      "2500/2500 [==============================] - 450s 180ms/step - loss: 0.6932 - accuracy: 0.4906 - val_loss: 0.6932 - val_accuracy: 0.4992\n",
      "Epoch 14/15\n",
      "2500/2500 [==============================] - 457s 183ms/step - loss: 0.6932 - accuracy: 0.4893 - val_loss: 0.6932 - val_accuracy: 0.4994\n",
      "Epoch 15/15\n",
      "2500/2500 [==============================] - 457s 183ms/step - loss: 0.6932 - accuracy: 0.4878 - val_loss: 0.6931 - val_accuracy: 0.5011\n"
     ]
    }
   ],
   "source": [
    "historyE = modelE.fit(\n",
    "        train_generator,\n",
    "        steps_per_epoch=2500,\n",
    "        epochs=15,\n",
    "        validation_data=val_generator,\n",
    "        validation_steps=200)"
   ]
  },
  {
   "cell_type": "code",
   "execution_count": 9,
   "metadata": {},
   "outputs": [
    {
     "data": {
      "image/png": "[encoded data removed]",
      "text/plain": [
       "<Figure size 432x288 with 1 Axes>"
      ]
     },
     "metadata": {},
     "output_type": "display_data"
    }
   ],
   "source": [
    "plt.plot(historyE.history['accuracy'])\n",
    "plt.plot(historyE.history['val_accuracy'])\n",
    "plt.title('Model accuracy')\n",
    "plt.ylabel('Accuracy')\n",
    "plt.xlabel('Epoch')\n",
    "plt.legend(['Train', 'Test'], loc='upper left')\n",
    "plt.show()"
   ]
  },
  {
   "cell_type": "code",
   "execution_count": 10,
   "metadata": {},
   "outputs": [
    {
     "data": {
      "image/png": "[encoded data removed]",
      "text/plain": [
       "<Figure size 432x288 with 1 Axes>"
      ]
     },
     "metadata": {},
     "output_type": "display_data"
    }
   ],
   "source": [
    "plt.plot(historyE.history['loss'])\n",
    "plt.plot(historyE.history['val_loss'])\n",
    "plt.title('Model Loss')\n",
    "plt.ylabel('Loss')\n",
    "plt.xlabel('Epoch')\n",
    "plt.legend(['Train', 'Test'], loc='upper left')\n",
    "plt.show()"
   ]
  },
  {
   "cell_type": "code",
   "execution_count": null,
   "metadata": {},
   "outputs": [],
   "source": []
  }
 ],
 "metadata": {
  "kernelspec": {
   "display_name": "Python (fouriernet)",
   "language": "python",
   "name": "fouriernet"
  },
  "language_info": {
   "codemirror_mode": {
    "name": "ipython",
    "version": 3
   },
   "file_extension": ".py",
   "mimetype": "text/x-python",
   "name": "python",
   "nbconvert_exporter": "python",
   "pygments_lexer": "ipython3",
   "version": "3.6.10"
  }
 },
 "nbformat": 4,
 "nbformat_minor": 2
}
